{
 "cells": [
  {
   "cell_type": "code",
   "execution_count": 23,
   "id": "15335b87-ba76-4307-9af0-0c04efcefdcf",
   "metadata": {},
   "outputs": [],
   "source": [
    "import pandas as pd\n",
    "import numpy as np\n",
    "import os\n",
    "import pickle\n",
    "import re\n",
    "import numpy as np\n",
    "import matplotlib.pyplot as plt\n",
    "\n",
    "import lightgbm as LightGBM\n",
    "\n",
    "from sklearn.linear_model import LogisticRegression\n",
    "from sklearn.svm import SVC\n",
    "from sklearn.neighbors import KNeighborsClassifier\n",
    "from sklearn.ensemble import RandomForestClassifier, AdaBoostClassifier, GradientBoostingClassifier\n",
    "\n",
    "from sklearn.tree import DecisionTreeClassifier\n",
    "from sklearn.naive_bayes import GaussianNB\n",
    "\n",
    "from sklearn.model_selection import validation_curve, GridSearchCV\n",
    "from sklearn.metrics import accuracy_score, balanced_accuracy_score, precision_score, recall_score, f1_score, roc_auc_score\n",
    "from sklearn.metrics import RocCurveDisplay, ConfusionMatrixDisplay, confusion_matrix\n",
    "from sklearn.model_selection import learning_curve, validation_curve"
   ]
  },
  {
   "cell_type": "code",
   "execution_count": 24,
   "id": "03a7bd65-baed-45e3-ac1b-e1c541316320",
   "metadata": {},
   "outputs": [],
   "source": [
    "train = pd.read_csv('../DataSet/train_raw4_3.csv')\n",
    "test = pd.read_csv('../DataSet/test_raw4_3.csv')\n"
   ]
  },
  {
   "cell_type": "raw",
   "id": "c3ccc405-446d-4f5f-83fa-90ba5987d481",
   "metadata": {},
   "source": [
    "train['(DMC/FWI)/ISI'] = train['(DMC/FWI)/ISI'].replace(to_replace=np.nan, value=-1.348543e-16)\n",
    "test['(DMC/FWI)/ISI'] = test['(DMC/FWI)/ISI'].replace(to_replace=np.nan, value=-1.348543e-16)\n",
    "\n",
    "test.isnull().sum()"
   ]
  },
  {
   "cell_type": "code",
   "execution_count": 25,
   "id": "4c2c16e2-2d58-4fbd-9413-9fedcc9babbe",
   "metadata": {},
   "outputs": [
    {
     "data": {
      "text/html": [
       "<div>\n",
       "<style scoped>\n",
       "    .dataframe tbody tr th:only-of-type {\n",
       "        vertical-align: middle;\n",
       "    }\n",
       "\n",
       "    .dataframe tbody tr th {\n",
       "        vertical-align: top;\n",
       "    }\n",
       "\n",
       "    .dataframe thead th {\n",
       "        text-align: right;\n",
       "    }\n",
       "</style>\n",
       "<table border=\"1\" class=\"dataframe\">\n",
       "  <thead>\n",
       "    <tr style=\"text-align: right;\">\n",
       "      <th></th>\n",
       "      <th>month_07</th>\n",
       "      <th>month_08</th>\n",
       "      <th>month_09</th>\n",
       "      <th>Temperature</th>\n",
       "      <th>RH</th>\n",
       "      <th>Rain</th>\n",
       "      <th>DC</th>\n",
       "      <th>FWI</th>\n",
       "      <th>FWI/FFMC</th>\n",
       "      <th>(DMC/FWI)/ISI</th>\n",
       "      <th>FWI/BUI</th>\n",
       "      <th>Classes_not fire</th>\n",
       "    </tr>\n",
       "  </thead>\n",
       "  <tbody>\n",
       "    <tr>\n",
       "      <th>0</th>\n",
       "      <td>0</td>\n",
       "      <td>0</td>\n",
       "      <td>0</td>\n",
       "      <td>0.266381</td>\n",
       "      <td>-0.821244</td>\n",
       "      <td>-0.381541</td>\n",
       "      <td>0.984429</td>\n",
       "      <td>0.772938</td>\n",
       "      <td>0.795832</td>\n",
       "      <td>-0.379876</td>\n",
       "      <td>0.477521</td>\n",
       "      <td>0</td>\n",
       "    </tr>\n",
       "    <tr>\n",
       "      <th>1</th>\n",
       "      <td>1</td>\n",
       "      <td>0</td>\n",
       "      <td>0</td>\n",
       "      <td>0.539809</td>\n",
       "      <td>1.254823</td>\n",
       "      <td>-0.381541</td>\n",
       "      <td>-0.242187</td>\n",
       "      <td>-0.480053</td>\n",
       "      <td>-0.465379</td>\n",
       "      <td>0.551357</td>\n",
       "      <td>-0.174961</td>\n",
       "      <td>1</td>\n",
       "    </tr>\n",
       "    <tr>\n",
       "      <th>2</th>\n",
       "      <td>0</td>\n",
       "      <td>0</td>\n",
       "      <td>1</td>\n",
       "      <td>-0.827331</td>\n",
       "      <td>0.183304</td>\n",
       "      <td>-0.104489</td>\n",
       "      <td>-0.727538</td>\n",
       "      <td>-0.836166</td>\n",
       "      <td>-0.845626</td>\n",
       "      <td>-0.220413</td>\n",
       "      <td>-0.845911</td>\n",
       "      <td>1</td>\n",
       "    </tr>\n",
       "    <tr>\n",
       "      <th>3</th>\n",
       "      <td>1</td>\n",
       "      <td>0</td>\n",
       "      <td>0</td>\n",
       "      <td>0.539809</td>\n",
       "      <td>-1.156094</td>\n",
       "      <td>-0.381541</td>\n",
       "      <td>-0.531191</td>\n",
       "      <td>0.931211</td>\n",
       "      <td>0.921712</td>\n",
       "      <td>-0.533633</td>\n",
       "      <td>1.823222</td>\n",
       "      <td>0</td>\n",
       "    </tr>\n",
       "    <tr>\n",
       "      <th>4</th>\n",
       "      <td>0</td>\n",
       "      <td>0</td>\n",
       "      <td>1</td>\n",
       "      <td>-0.553903</td>\n",
       "      <td>1.187853</td>\n",
       "      <td>-0.381541</td>\n",
       "      <td>-0.301753</td>\n",
       "      <td>-0.440485</td>\n",
       "      <td>-0.429440</td>\n",
       "      <td>0.960935</td>\n",
       "      <td>0.138587</td>\n",
       "      <td>0</td>\n",
       "    </tr>\n",
       "  </tbody>\n",
       "</table>\n",
       "</div>"
      ],
      "text/plain": [
       "   month_07  month_08  month_09  Temperature        RH      Rain        DC  \\\n",
       "0         0         0         0     0.266381 -0.821244 -0.381541  0.984429   \n",
       "1         1         0         0     0.539809  1.254823 -0.381541 -0.242187   \n",
       "2         0         0         1    -0.827331  0.183304 -0.104489 -0.727538   \n",
       "3         1         0         0     0.539809 -1.156094 -0.381541 -0.531191   \n",
       "4         0         0         1    -0.553903  1.187853 -0.381541 -0.301753   \n",
       "\n",
       "        FWI  FWI/FFMC  (DMC/FWI)/ISI   FWI/BUI  Classes_not fire  \n",
       "0  0.772938  0.795832      -0.379876  0.477521                 0  \n",
       "1 -0.480053 -0.465379       0.551357 -0.174961                 1  \n",
       "2 -0.836166 -0.845626      -0.220413 -0.845911                 1  \n",
       "3  0.931211  0.921712      -0.533633  1.823222                 0  \n",
       "4 -0.440485 -0.429440       0.960935  0.138587                 0  "
      ]
     },
     "execution_count": 25,
     "metadata": {},
     "output_type": "execute_result"
    }
   ],
   "source": [
    "train.head()"
   ]
  },
  {
   "cell_type": "raw",
   "id": "94c3b963-964e-4bb3-b41f-35c477b3ccff",
   "metadata": {},
   "source": [
    "train.drop(['log_FWI/FFMC','log_skewed_DC','log_skewed_FWI'],axis=1, inplace=True)\n",
    "test.drop(['log_FWI/FFMC','log_skewed_DC','log_skewed_FWI'],axis=1,inplace=True)\n",
    "\n",
    "#train.drop(['FWI','DC'],axis=1, inplace=True)\n",
    "#test.drop(['FWI','DC'],axis=1,inplace=True)\n"
   ]
  },
  {
   "cell_type": "raw",
   "id": "41005341-5b2f-429a-96f2-86f5218dd749",
   "metadata": {},
   "source": [
    "\n",
    "train.to_csv('../DataSet/train_raw4_3.csv',index=False)\n",
    "\n",
    "test.to_csv('../DataSet/test_raw4_3.csv',index=False)"
   ]
  },
  {
   "cell_type": "code",
   "execution_count": 26,
   "id": "751838f4-e6ad-4034-b995-4f4a44b92214",
   "metadata": {},
   "outputs": [],
   "source": [
    "train['month_07'] = train['month_07'].astype('uint8')\n",
    "train['month_08'] = train['month_08'].astype('uint8')\n",
    "train['month_09'] = train['month_09'].astype('uint8')\n",
    "train['Classes_not fire'] = train['Classes_not fire'].astype('uint8')\n",
    "\n",
    "test['month_07'] = test['month_07'].astype('uint8')\n",
    "test['month_08'] = test['month_08'].astype('uint8')\n",
    "test['month_09'] = test['month_09'].astype('uint8')\n",
    "test['Classes_not fire'] = test['Classes_not fire'].astype('uint8')"
   ]
  },
  {
   "cell_type": "code",
   "execution_count": 27,
   "id": "88c8784c-e39b-4ac3-bad7-f7bf6bc88446",
   "metadata": {},
   "outputs": [
    {
     "data": {
      "text/plain": [
       "month_07              uint8\n",
       "month_08              uint8\n",
       "month_09              uint8\n",
       "Temperature         float64\n",
       "RH                  float64\n",
       "Rain                float64\n",
       "DC                  float64\n",
       "FWI                 float64\n",
       "FWI/FFMC            float64\n",
       "(DMC/FWI)/ISI       float64\n",
       "FWI/BUI             float64\n",
       "Classes_not fire      uint8\n",
       "dtype: object"
      ]
     },
     "execution_count": 27,
     "metadata": {},
     "output_type": "execute_result"
    }
   ],
   "source": [
    "train.dtypes"
   ]
  },
  {
   "cell_type": "code",
   "execution_count": 28,
   "id": "0598b98f-a40a-46c3-a0bb-45974ffe99ff",
   "metadata": {},
   "outputs": [
    {
     "data": {
      "text/plain": [
       "month_07              uint8\n",
       "month_08              uint8\n",
       "month_09              uint8\n",
       "Temperature         float64\n",
       "RH                  float64\n",
       "Rain                float64\n",
       "DC                  float64\n",
       "FWI                 float64\n",
       "FWI/FFMC            float64\n",
       "(DMC/FWI)/ISI       float64\n",
       "FWI/BUI             float64\n",
       "Classes_not fire      uint8\n",
       "dtype: object"
      ]
     },
     "execution_count": 28,
     "metadata": {},
     "output_type": "execute_result"
    }
   ],
   "source": [
    "test.dtypes"
   ]
  },
  {
   "cell_type": "code",
   "execution_count": 29,
   "id": "5a73fc26-8203-407d-bb7b-1641c611c80b",
   "metadata": {},
   "outputs": [
    {
     "data": {
      "text/plain": [
       "array([0, 1], dtype=uint8)"
      ]
     },
     "execution_count": 29,
     "metadata": {},
     "output_type": "execute_result"
    }
   ],
   "source": [
    "train['Classes_not fire'].unique()"
   ]
  },
  {
   "cell_type": "code",
   "execution_count": 30,
   "id": "f41d4d81-9f46-4bc2-a4f0-027160740bdd",
   "metadata": {},
   "outputs": [
    {
     "data": {
      "text/plain": [
       "array([0, 1], dtype=uint8)"
      ]
     },
     "execution_count": 30,
     "metadata": {},
     "output_type": "execute_result"
    }
   ],
   "source": [
    "test['Classes_not fire'].unique()"
   ]
  },
  {
   "cell_type": "code",
   "execution_count": 31,
   "id": "93bc2e4a-8ae5-4489-8f4a-6f28ed3b6613",
   "metadata": {},
   "outputs": [
    {
     "data": {
      "text/html": [
       "<div>\n",
       "<style scoped>\n",
       "    .dataframe tbody tr th:only-of-type {\n",
       "        vertical-align: middle;\n",
       "    }\n",
       "\n",
       "    .dataframe tbody tr th {\n",
       "        vertical-align: top;\n",
       "    }\n",
       "\n",
       "    .dataframe thead th {\n",
       "        text-align: right;\n",
       "    }\n",
       "</style>\n",
       "<table border=\"1\" class=\"dataframe\">\n",
       "  <thead>\n",
       "    <tr style=\"text-align: right;\">\n",
       "      <th></th>\n",
       "      <th>month_07</th>\n",
       "      <th>month_08</th>\n",
       "      <th>month_09</th>\n",
       "      <th>Temperature</th>\n",
       "      <th>RH</th>\n",
       "      <th>Rain</th>\n",
       "      <th>DC</th>\n",
       "      <th>FWI</th>\n",
       "      <th>FWI/FFMC</th>\n",
       "      <th>(DMC/FWI)/ISI</th>\n",
       "      <th>FWI/BUI</th>\n",
       "    </tr>\n",
       "  </thead>\n",
       "  <tbody>\n",
       "    <tr>\n",
       "      <th>0</th>\n",
       "      <td>0</td>\n",
       "      <td>0</td>\n",
       "      <td>0</td>\n",
       "      <td>0.266381</td>\n",
       "      <td>-0.821244</td>\n",
       "      <td>-0.381541</td>\n",
       "      <td>0.984429</td>\n",
       "      <td>0.772938</td>\n",
       "      <td>0.795832</td>\n",
       "      <td>-0.379876</td>\n",
       "      <td>0.477521</td>\n",
       "    </tr>\n",
       "    <tr>\n",
       "      <th>1</th>\n",
       "      <td>1</td>\n",
       "      <td>0</td>\n",
       "      <td>0</td>\n",
       "      <td>0.539809</td>\n",
       "      <td>1.254823</td>\n",
       "      <td>-0.381541</td>\n",
       "      <td>-0.242187</td>\n",
       "      <td>-0.480053</td>\n",
       "      <td>-0.465379</td>\n",
       "      <td>0.551357</td>\n",
       "      <td>-0.174961</td>\n",
       "    </tr>\n",
       "    <tr>\n",
       "      <th>2</th>\n",
       "      <td>0</td>\n",
       "      <td>0</td>\n",
       "      <td>1</td>\n",
       "      <td>-0.827331</td>\n",
       "      <td>0.183304</td>\n",
       "      <td>-0.104489</td>\n",
       "      <td>-0.727538</td>\n",
       "      <td>-0.836166</td>\n",
       "      <td>-0.845626</td>\n",
       "      <td>-0.220413</td>\n",
       "      <td>-0.845911</td>\n",
       "    </tr>\n",
       "    <tr>\n",
       "      <th>3</th>\n",
       "      <td>1</td>\n",
       "      <td>0</td>\n",
       "      <td>0</td>\n",
       "      <td>0.539809</td>\n",
       "      <td>-1.156094</td>\n",
       "      <td>-0.381541</td>\n",
       "      <td>-0.531191</td>\n",
       "      <td>0.931211</td>\n",
       "      <td>0.921712</td>\n",
       "      <td>-0.533633</td>\n",
       "      <td>1.823222</td>\n",
       "    </tr>\n",
       "    <tr>\n",
       "      <th>4</th>\n",
       "      <td>0</td>\n",
       "      <td>0</td>\n",
       "      <td>1</td>\n",
       "      <td>-0.553903</td>\n",
       "      <td>1.187853</td>\n",
       "      <td>-0.381541</td>\n",
       "      <td>-0.301753</td>\n",
       "      <td>-0.440485</td>\n",
       "      <td>-0.429440</td>\n",
       "      <td>0.960935</td>\n",
       "      <td>0.138587</td>\n",
       "    </tr>\n",
       "  </tbody>\n",
       "</table>\n",
       "</div>"
      ],
      "text/plain": [
       "   month_07  month_08  month_09  Temperature        RH      Rain        DC  \\\n",
       "0         0         0         0     0.266381 -0.821244 -0.381541  0.984429   \n",
       "1         1         0         0     0.539809  1.254823 -0.381541 -0.242187   \n",
       "2         0         0         1    -0.827331  0.183304 -0.104489 -0.727538   \n",
       "3         1         0         0     0.539809 -1.156094 -0.381541 -0.531191   \n",
       "4         0         0         1    -0.553903  1.187853 -0.381541 -0.301753   \n",
       "\n",
       "        FWI  FWI/FFMC  (DMC/FWI)/ISI   FWI/BUI  \n",
       "0  0.772938  0.795832      -0.379876  0.477521  \n",
       "1 -0.480053 -0.465379       0.551357 -0.174961  \n",
       "2 -0.836166 -0.845626      -0.220413 -0.845911  \n",
       "3  0.931211  0.921712      -0.533633  1.823222  \n",
       "4 -0.440485 -0.429440       0.960935  0.138587  "
      ]
     },
     "execution_count": 31,
     "metadata": {},
     "output_type": "execute_result"
    }
   ],
   "source": [
    "X_train = train.iloc[:,:-1]\n",
    "X_test = test.iloc[:,:-1]\n",
    "\n",
    "#X_test.head()\n",
    "X_train.head()"
   ]
  },
  {
   "cell_type": "code",
   "execution_count": 32,
   "id": "d3773a69-9034-4c6c-b4e7-62e81114d2ae",
   "metadata": {},
   "outputs": [
    {
     "data": {
      "text/plain": [
       "0    0\n",
       "1    1\n",
       "2    1\n",
       "3    0\n",
       "4    0\n",
       "Name: Classes_not fire, dtype: uint8"
      ]
     },
     "execution_count": 32,
     "metadata": {},
     "output_type": "execute_result"
    }
   ],
   "source": [
    "y_train = train['Classes_not fire']\n",
    "y_test = test[['Classes_not fire']]\n",
    "y_train.head()"
   ]
  },
  {
   "cell_type": "markdown",
   "id": "259ed864-99b9-4a0b-ac71-0010f38d65e8",
   "metadata": {
    "tags": []
   },
   "source": [
    "# Model Training: Classification"
   ]
  },
  {
   "cell_type": "markdown",
   "id": "49653c11-d29b-4fb7-92d9-23eda6eb804a",
   "metadata": {
    "jp-MarkdownHeadingCollapsed": true,
    "tags": []
   },
   "source": [
    "## LightGBM"
   ]
  },
  {
   "cell_type": "code",
   "execution_count": null,
   "id": "2d9fb5dd-6be0-4f4c-9adf-a533a5805930",
   "metadata": {
    "scrolled": true,
    "tags": []
   },
   "outputs": [],
   "source": [
    "import numpy as np\n",
    "import pandas as pd\n",
    "import lightgbm as lgb\n",
    "from sklearn.model_selection import GridSearchCV\n",
    "from sklearn.metrics import roc_auc_score\n",
    "\n",
    "# load data\n",
    "lgb_model = LightGBM\n",
    "# define parameter grid\n",
    "param_lightGBM = {'n_estimators':[100,400],\n",
    "    'learning_rate': [0.05, 0.1, 0.2,1],\n",
    "    'num_leaves': [10, 20, 30],\n",
    "    'max_depth': [-1, 5, 10],\n",
    "    'min_child_samples': [10, 20, 30],\n",
    "    'reg_alpha': [0, 0.5,],\n",
    "    'reg_lambda': [0, 0.5,]\n",
    "}\n",
    "\n",
    "# define LightGBM model\n",
    "lgb_model = lgb.LGBMClassifier(objective='binary', metric=['f1','auc','binary_logloss'])\n",
    "\n",
    "# define GridSearchCV object\n",
    "grid_search = GridSearchCV(estimator=lgb_model,\n",
    "                           param_grid=param_lightGBM,\n",
    "                           refit='roc_auc',\n",
    "                           scoring=['f1','roc_auc'],\n",
    "                           cv=5,\n",
    "                           verbose=3\n",
    "                          )\n",
    "\n",
    "# perform grid search\n",
    "grid_search.fit(X_train, y_train)\n",
    "\n",
    "# print best hyperparameters\n",
    "print(\"Best Hyperparameters:\", grid_search.best_params_)\n",
    "\n"
   ]
  },
  {
   "cell_type": "code",
   "execution_count": 14,
   "id": "b43082c5-255b-4952-aa9c-679c4035f99d",
   "metadata": {},
   "outputs": [
    {
     "name": "stdout",
     "output_type": "stream",
     "text": [
      "Test F1 Score: 0.9142857142857143\n",
      "Test roc_auc Score: 0.9283154121863799\n",
      "Test Accuracy Score: 0.9387755102040817\n",
      "Test Balanced Accuracy Score: 0.9283154121863799\n"
     ]
    }
   ],
   "source": [
    "# predict on test set\n",
    "y_pred  = grid_search.best_estimator_.predict(X_test)\n",
    "print(\"Test F1 Score:\", f1_score(y_test, y_pred))\n",
    "print(\"Test roc_auc Score:\", roc_auc_score(y_test, y_pred))\n",
    "print(\"Test Accuracy Score:\", accuracy_score(y_test, y_pred))\n",
    "print(\"Test Balanced Accuracy Score:\", balanced_accuracy_score(y_test, y_pred))\n",
    "\n"
   ]
  },
  {
   "cell_type": "code",
   "execution_count": 15,
   "id": "0d66fafa-0090-4549-80ab-f725d0c81c18",
   "metadata": {},
   "outputs": [],
   "source": [
    "filename = 'tuned_' + re.search(r'^[^\\(]+', str(grid_search.best_estimator_))[0] + '_model.pkl'\n",
    "filepath = os.path.join('../tuned_models_raw', filename)\n",
    "with open(filepath, 'wb') as file:\n",
    "    pickle.dump(grid_search, file)\n"
   ]
  },
  {
   "cell_type": "markdown",
   "id": "9d9b4dbb-20f9-42de-b8c9-590efac5505c",
   "metadata": {
    "jp-MarkdownHeadingCollapsed": true,
    "tags": []
   },
   "source": [
    "## DecisionTree and GaussianNB"
   ]
  },
  {
   "cell_type": "code",
   "execution_count": null,
   "id": "76c8df91-71fd-4b89-b6ef-0a8c6e3bc2af",
   "metadata": {
    "scrolled": true,
    "tags": []
   },
   "outputs": [],
   "source": [
    "#dtc = DecisionTreeClassifier()\n",
    "clfs = {\n",
    "    'DecisionTrees': DecisionTreeClassifier(),\n",
    "    'GaussianNB': GaussianNB(),\n",
    "    \n",
    "    }\n",
    "\n",
    "param_grid = {\n",
    "    \n",
    "    'GaussianNB':{},\n",
    "    \n",
    "    'DecisionTrees':{'criterion': ['gini', 'entropy', 'log_loss'],\n",
    "                    'max_depth':[1,2,3,4,5,6,7,8,9,10,12,14,16],\n",
    "                    'splitter':['best','random']},\n",
    "\n",
    "    }\n",
    "\n",
    "##################################\n",
    "def train_classifier(clf,parameters):\n",
    "    \n",
    "    gs = GridSearchCV(clf,param_grid=parameters, cv=5,refit='roc_auc', verbose=2, scoring=['f1','roc_auc']).fit(X_train, y_train)\n",
    "    #y_pred = gs.predict(X_test)    \n",
    "    \n",
    "    \n",
    "    return gs\n",
    "########################################\n",
    "tuned_models = []\n",
    "\n",
    "for name,clf in clfs.items():\n",
    "    \n",
    "    print(\"\\nFor \",name)\n",
    "    parameters = param_grid[name]\n",
    "    current_best_model = train_classifier(clf,parameters)\n",
    "    \n",
    "    ####### Saving Trainined MOdel #####################\n",
    "    \n",
    "    # create the directory if it does not exist\n",
    "    if not os.path.exists('../tuned_models_raw'):\n",
    "        os.makedirs('../tuned_models_raw')\n",
    "\n",
    "    filename = 'tuned_' + re.search(r'^[^\\(]+', str(current_best_model.best_estimator_))[0] + '_model.pkl'\n",
    "    filepath = os.path.join('../tuned_models_raw', filename)\n",
    "    with open(filepath, 'wb') as file:\n",
    "        pickle.dump(current_best_model, file)\n",
    "            \n",
    "    ##############################################################################\n",
    "    \n",
    "    tuned_models.append(current_best_model)\n"
   ]
  },
  {
   "cell_type": "markdown",
   "id": "fc5a8533-28d7-40d1-8eb9-8b6338e4f5fa",
   "metadata": {
    "tags": []
   },
   "source": [
    "## All Other Models"
   ]
  },
  {
   "cell_type": "code",
   "execution_count": null,
   "id": "78eb4ded-1a16-41d2-abf4-253d95a22c73",
   "metadata": {},
   "outputs": [],
   "source": [
    "lr = LogisticRegression()\n",
    "svc = SVC()\n",
    "knn = KNeighborsClassifier()\n",
    "rf = RandomForestClassifier()\n",
    "adaBoost = AdaBoostClassifier()\n",
    "#lgbm = LGBMClassifier()\n",
    "gbt = GradientBoostingClassifier()"
   ]
  },
  {
   "cell_type": "code",
   "execution_count": null,
   "id": "1e5233dc-edbf-4ca7-b382-3608c1a48555",
   "metadata": {
    "tags": []
   },
   "outputs": [],
   "source": [
    "clfs = {\n",
    "    'LogisticRegression': lr,\n",
    "    'SVC': svc,\n",
    "    'KNeighbors': knn,\n",
    "    'RandomForest': rf,\n",
    "    'AdaBoost': adaBoost,\n",
    "    \n",
    "    'GradientBoostingTrees': gbt\n",
    "}"
   ]
  },
  {
   "cell_type": "code",
   "execution_count": null,
   "id": "1d3e08c0-902b-44f4-8c14-8be2b5af314e",
   "metadata": {
    "tags": []
   },
   "outputs": [],
   "source": [
    "param_grid = {\n",
    "    \n",
    "    'LogisticRegression':{'penalty':['elasticnet'],\n",
    "                          'solver':['saga'],\n",
    "                          'max_iter':[3000],\n",
    "                          'l1_ratio':[1,0.8,0.6,0.5,0.4,0.2,0],                          \n",
    "                          'C': [10e-3,10e-2,10e-1,1.0],\n",
    "                         'class_weight': ['balanced',None]},\n",
    "    \n",
    "    'SVC': {'C':[10e-3,10e-2,10e-1,1.0],\n",
    "           'kernel':['linear','rbf','sigmoid'],\n",
    "           'gamma':['scale','auto']},\n",
    "    \n",
    "    'KNeighbors': {'n_neighbors':[3,5,9,11,13,15],  # n_neighbors should always be odd numbers\n",
    "                     'weights': ['uniform','distance']},\n",
    "    \n",
    "    'RandomForest': {'n_estimators':[100,300],\n",
    "                    'criterion':['gini','log_loss'],\n",
    "                    'max_depth':[2,4,5,6,8,10,15,20],\n",
    "                    'class_weight': ['balanced',None]},\n",
    "    \n",
    "    'AdaBoost': {'n_estimators': [50,60,70,90,100,110],\n",
    "                'learning_rate': [10e-3,10e-2,10e-1,1.0]},\n",
    "    \n",
    "    'GradientBoostingTrees': {'loss': ['log_loss', 'exponential'],\n",
    "                             'learning_rate': [10e-3,10e-2,10e-1,1.0],\n",
    "                             'n_estimators': [100,200,250],\n",
    "                             'max_depth': [2,3,4,5,6,7,8,9]},\n",
    "    \n",
    "           \n",
    "    }"
   ]
  },
  {
   "cell_type": "code",
   "execution_count": null,
   "id": "9c7ac2df-90dd-49f1-a2d2-770e90ec106e",
   "metadata": {
    "tags": []
   },
   "outputs": [],
   "source": [
    "def train_classifier(clf,parameters):\n",
    "    \n",
    "    gs = GridSearchCV(clf,param_grid=parameters, cv=5,refit='roc_auc', verbose=2, scoring=['f1','roc_auc']).fit(X_train, y_train)\n",
    "    #y_pred = gs.predict(X_test)    \n",
    "    \n",
    "    \n",
    "    return gs"
   ]
  },
  {
   "cell_type": "code",
   "execution_count": null,
   "id": "f2a37789-29f1-4eb4-a7c7-c535324c047a",
   "metadata": {
    "scrolled": true,
    "tags": []
   },
   "outputs": [],
   "source": [
    "tuned_models = []\n",
    "\n",
    "for name,clf in clfs.items():\n",
    "    \n",
    "    print(\"\\nFor \",name)\n",
    "    parameters = param_grid[name]\n",
    "    current_best_model = train_classifier(clf,parameters)\n",
    "    \n",
    "    ####### Saving Trainined MOdel #####################\n",
    "    \n",
    "    # create the directory if it does not exist\n",
    "    if not os.path.exists('../tuned_models_raw4_3'):\n",
    "        os.makedirs('../tuned_models_raw4_3')\n",
    "\n",
    "    filename = 'tuned_' + re.search(r'^[^\\(]+', str(current_best_model.best_estimator_))[0] + '_model.pkl'\n",
    "    filepath = os.path.join('../tuned_models_raw4_3', filename)\n",
    "    with open(filepath, 'wb') as file:\n",
    "        pickle.dump(current_best_model, file)\n",
    "            \n",
    "    ##############################################################################\n",
    "    \n",
    "    tuned_models.append(current_best_model)"
   ]
  },
  {
   "cell_type": "code",
   "execution_count": null,
   "id": "88a40e07-8764-4aaa-815e-1bbefa37bc16",
   "metadata": {
    "tags": []
   },
   "outputs": [],
   "source": [
    "tuned_models;"
   ]
  },
  {
   "cell_type": "code",
   "execution_count": null,
   "id": "aeffc09a-f2a7-481b-895c-0bb0c5d2fa86",
   "metadata": {},
   "outputs": [],
   "source": []
  },
  {
   "cell_type": "raw",
   "id": "e2ae5b62-45e5-4e87-a4fc-49159ffe7345",
   "metadata": {
    "jupyter": {
     "source_hidden": true
    },
    "tags": []
   },
   "source": [
    "import os\n",
    "import pickle\n",
    "import re\n",
    "\n",
    "# create the directory if it does not exist\n",
    "if not os.path.exists('../tuned_models'):\n",
    "    os.makedirs('../tuned_models')\n",
    "\n",
    "for model in tuned_models:\n",
    "    filename = 'tuned_' + re.search(r'^[^\\(]+', str(model.best_estimator_))[0] + '_model.pkl'\n",
    "    filepath = os.path.join('../tuned_models', filename)\n",
    "    with open(filepath, 'wb') as file:\n",
    "        pickle.dump(model, file)\n"
   ]
  },
  {
   "cell_type": "markdown",
   "id": "792cb901-d4eb-4e6b-a0b2-95ec77ef70c6",
   "metadata": {
    "tags": []
   },
   "source": [
    "# Model Import & Model Scores"
   ]
  },
  {
   "cell_type": "code",
   "execution_count": 17,
   "id": "9cfd4e89-52d5-4006-91d9-e2f5edac11fa",
   "metadata": {
    "tags": []
   },
   "outputs": [],
   "source": [
    "svm_model = pickle.load(open('../tuned_models_raw4_3/tuned_SVC_model.pkl','rb'))\n",
    "AdaBoost_model = pickle.load(open('../tuned_models_raw4_3/tuned_AdaBoostClassifier_model.pkl','rb'))\n",
    "GBDT_model = pickle.load(open('../tuned_models_raw4_3/tuned_GradientBoostingClassifier_model.pkl','rb'))\n",
    "knn_model = pickle.load(open('../tuned_models_raw4_3/tuned_KNeighborsClassifier_model.pkl','rb'))\n",
    "lr_model = pickle.load(open('../tuned_models_raw4_3/tuned_LogisticRegression_model.pkl','rb'))\n",
    "RF_model = pickle.load(open('../tuned_models_raw4_3/tuned_RandomForestClassifier_model.pkl','rb'))\n",
    "lgbm_model = pickle.load(open('../tuned_models_raw4_3/tuned_LGBMClassifier_model.pkl','rb'))\n",
    "\n",
    "dtc_model = pickle.load(open('../tuned_models_raw4_3/tuned_DecisionTreeClassifier_model.pkl','rb'))\n",
    "GNB_model = pickle.load(open('../tuned_models_raw4_3/tuned_GaussianNB_model.pkl','rb'))"
   ]
  },
  {
   "cell_type": "code",
   "execution_count": null,
   "id": "f56f9f74-1bd6-4c7f-a9d0-cbe650ad0924",
   "metadata": {},
   "outputs": [],
   "source": []
  },
  {
   "cell_type": "code",
   "execution_count": null,
   "id": "4866bc67-dbce-4553-9834-dc2bdfc4220c",
   "metadata": {},
   "outputs": [],
   "source": []
  },
  {
   "cell_type": "code",
   "execution_count": 18,
   "id": "25a55e50-2f07-4bd6-80dd-8393436bcee3",
   "metadata": {},
   "outputs": [
    {
     "data": {
      "text/plain": [
       "array(['Temperature', 'RH', 'Rain', 'DC', 'FWI', 'month_07', 'month_08',\n",
       "       'month_09'], dtype=object)"
      ]
     },
     "execution_count": 18,
     "metadata": {},
     "output_type": "execute_result"
    }
   ],
   "source": [
    "#svm_model = pickle.load(open('../tuned_models_raw/tuned_SVC_model.pkl','rb'))\n",
    "svm_model.feature_names_in_"
   ]
  },
  {
   "cell_type": "code",
   "execution_count": 19,
   "id": "47691825-7d72-477e-860e-9486ec5efbb7",
   "metadata": {
    "tags": []
   },
   "outputs": [
    {
     "data": {
      "text/html": [
       "<style type=\"text/css\">\n",
       "#T_a9dc7_row0_col0, #T_a9dc7_row0_col3, #T_a9dc7_row0_col5, #T_a9dc7_row0_col7, #T_a9dc7_row0_col11, #T_a9dc7_row1_col2, #T_a9dc7_row1_col4, #T_a9dc7_row1_col6, #T_a9dc7_row1_col8, #T_a9dc7_row1_col10, #T_a9dc7_row3_col2, #T_a9dc7_row3_col4, #T_a9dc7_row3_col6, #T_a9dc7_row3_col8, #T_a9dc7_row3_col9, #T_a9dc7_row3_col10, #T_a9dc7_row3_col11, #T_a9dc7_row4_col1, #T_a9dc7_row4_col2, #T_a9dc7_row4_col4, #T_a9dc7_row4_col6, #T_a9dc7_row4_col8, #T_a9dc7_row4_col9, #T_a9dc7_row4_col10, #T_a9dc7_row4_col11, #T_a9dc7_row5_col3, #T_a9dc7_row5_col5, #T_a9dc7_row5_col7, #T_a9dc7_row5_col11, #T_a9dc7_row6_col2, #T_a9dc7_row6_col4, #T_a9dc7_row6_col6, #T_a9dc7_row6_col8, #T_a9dc7_row6_col9, #T_a9dc7_row6_col10, #T_a9dc7_row6_col11 {\n",
       "  background-color: yellow;\n",
       "}\n",
       "</style>\n",
       "<table id=\"T_a9dc7\">\n",
       "  <thead>\n",
       "    <tr>\n",
       "      <th class=\"blank level0\" >&nbsp;</th>\n",
       "      <th id=\"T_a9dc7_level0_col0\" class=\"col_heading level0 col0\" >model</th>\n",
       "      <th id=\"T_a9dc7_level0_col1\" class=\"col_heading level0 col1\" >best_score</th>\n",
       "      <th id=\"T_a9dc7_level0_col2\" class=\"col_heading level0 col2\" >balanced_accuracy_train</th>\n",
       "      <th id=\"T_a9dc7_level0_col3\" class=\"col_heading level0 col3\" >balanced_accuracy_test</th>\n",
       "      <th id=\"T_a9dc7_level0_col4\" class=\"col_heading level0 col4\" >f1_train</th>\n",
       "      <th id=\"T_a9dc7_level0_col5\" class=\"col_heading level0 col5\" >f1_test</th>\n",
       "      <th id=\"T_a9dc7_level0_col6\" class=\"col_heading level0 col6\" >roc_auc_train</th>\n",
       "      <th id=\"T_a9dc7_level0_col7\" class=\"col_heading level0 col7\" >roc_auc_test</th>\n",
       "      <th id=\"T_a9dc7_level0_col8\" class=\"col_heading level0 col8\" >precision_train</th>\n",
       "      <th id=\"T_a9dc7_level0_col9\" class=\"col_heading level0 col9\" >precision_test</th>\n",
       "      <th id=\"T_a9dc7_level0_col10\" class=\"col_heading level0 col10\" >accuracy_train</th>\n",
       "      <th id=\"T_a9dc7_level0_col11\" class=\"col_heading level0 col11\" >accuracy_test</th>\n",
       "    </tr>\n",
       "  </thead>\n",
       "  <tbody>\n",
       "    <tr>\n",
       "      <th id=\"T_a9dc7_level0_row0\" class=\"row_heading level0 row0\" >0</th>\n",
       "      <td id=\"T_a9dc7_row0_col0\" class=\"data row0 col0\" >SVM</td>\n",
       "      <td id=\"T_a9dc7_row0_col1\" class=\"data row0 col1\" >0.994087</td>\n",
       "      <td id=\"T_a9dc7_row0_col2\" class=\"data row0 col2\" >0.960334</td>\n",
       "      <td id=\"T_a9dc7_row0_col3\" class=\"data row0 col3\" >0.951613</td>\n",
       "      <td id=\"T_a9dc7_row0_col4\" class=\"data row0 col4\" >0.955556</td>\n",
       "      <td id=\"T_a9dc7_row0_col5\" class=\"data row0 col5\" >0.923077</td>\n",
       "      <td id=\"T_a9dc7_row0_col6\" class=\"data row0 col6\" >0.960334</td>\n",
       "      <td id=\"T_a9dc7_row0_col7\" class=\"data row0 col7\" >0.951613</td>\n",
       "      <td id=\"T_a9dc7_row0_col8\" class=\"data row0 col8\" >0.934783</td>\n",
       "      <td id=\"T_a9dc7_row0_col9\" class=\"data row0 col9\" >0.857143</td>\n",
       "      <td id=\"T_a9dc7_row0_col10\" class=\"data row0 col10\" >0.958763</td>\n",
       "      <td id=\"T_a9dc7_row0_col11\" class=\"data row0 col11\" >0.938776</td>\n",
       "    </tr>\n",
       "    <tr>\n",
       "      <th id=\"T_a9dc7_level0_row1\" class=\"row_heading level0 row1\" >1</th>\n",
       "      <td id=\"T_a9dc7_row1_col0\" class=\"data row1 col0\" >KNN</td>\n",
       "      <td id=\"T_a9dc7_row1_col1\" class=\"data row1 col1\" >0.930201</td>\n",
       "      <td id=\"T_a9dc7_row1_col2\" class=\"data row1 col2\" >1.000000</td>\n",
       "      <td id=\"T_a9dc7_row1_col3\" class=\"data row1 col3\" >0.840502</td>\n",
       "      <td id=\"T_a9dc7_row1_col4\" class=\"data row1 col4\" >1.000000</td>\n",
       "      <td id=\"T_a9dc7_row1_col5\" class=\"data row1 col5\" >0.800000</td>\n",
       "      <td id=\"T_a9dc7_row1_col6\" class=\"data row1 col6\" >1.000000</td>\n",
       "      <td id=\"T_a9dc7_row1_col7\" class=\"data row1 col7\" >0.840502</td>\n",
       "      <td id=\"T_a9dc7_row1_col8\" class=\"data row1 col8\" >1.000000</td>\n",
       "      <td id=\"T_a9dc7_row1_col9\" class=\"data row1 col9\" >0.823529</td>\n",
       "      <td id=\"T_a9dc7_row1_col10\" class=\"data row1 col10\" >1.000000</td>\n",
       "      <td id=\"T_a9dc7_row1_col11\" class=\"data row1 col11\" >0.857143</td>\n",
       "    </tr>\n",
       "    <tr>\n",
       "      <th id=\"T_a9dc7_level0_row2\" class=\"row_heading level0 row2\" >2</th>\n",
       "      <td id=\"T_a9dc7_row2_col0\" class=\"data row2 col0\" >AdaBoost</td>\n",
       "      <td id=\"T_a9dc7_row2_col1\" class=\"data row2 col1\" >0.993122</td>\n",
       "      <td id=\"T_a9dc7_row2_col2\" class=\"data row2 col2\" >0.965051</td>\n",
       "      <td id=\"T_a9dc7_row2_col3\" class=\"data row2 col3\" >0.896057</td>\n",
       "      <td id=\"T_a9dc7_row2_col4\" class=\"data row2 col4\" >0.960894</td>\n",
       "      <td id=\"T_a9dc7_row2_col5\" class=\"data row2 col5\" >0.864865</td>\n",
       "      <td id=\"T_a9dc7_row2_col6\" class=\"data row2 col6\" >0.965051</td>\n",
       "      <td id=\"T_a9dc7_row2_col7\" class=\"data row2 col7\" >0.896057</td>\n",
       "      <td id=\"T_a9dc7_row2_col8\" class=\"data row2 col8\" >0.945055</td>\n",
       "      <td id=\"T_a9dc7_row2_col9\" class=\"data row2 col9\" >0.842105</td>\n",
       "      <td id=\"T_a9dc7_row2_col10\" class=\"data row2 col10\" >0.963918</td>\n",
       "      <td id=\"T_a9dc7_row2_col11\" class=\"data row2 col11\" >0.897959</td>\n",
       "    </tr>\n",
       "    <tr>\n",
       "      <th id=\"T_a9dc7_level0_row3\" class=\"row_heading level0 row3\" >3</th>\n",
       "      <td id=\"T_a9dc7_row3_col0\" class=\"data row3 col0\" >GBDT</td>\n",
       "      <td id=\"T_a9dc7_row3_col1\" class=\"data row3 col1\" >0.994968</td>\n",
       "      <td id=\"T_a9dc7_row3_col2\" class=\"data row3 col2\" >1.000000</td>\n",
       "      <td id=\"T_a9dc7_row3_col3\" class=\"data row3 col3\" >0.928315</td>\n",
       "      <td id=\"T_a9dc7_row3_col4\" class=\"data row3 col4\" >1.000000</td>\n",
       "      <td id=\"T_a9dc7_row3_col5\" class=\"data row3 col5\" >0.914286</td>\n",
       "      <td id=\"T_a9dc7_row3_col6\" class=\"data row3 col6\" >1.000000</td>\n",
       "      <td id=\"T_a9dc7_row3_col7\" class=\"data row3 col7\" >0.928315</td>\n",
       "      <td id=\"T_a9dc7_row3_col8\" class=\"data row3 col8\" >1.000000</td>\n",
       "      <td id=\"T_a9dc7_row3_col9\" class=\"data row3 col9\" >0.941176</td>\n",
       "      <td id=\"T_a9dc7_row3_col10\" class=\"data row3 col10\" >1.000000</td>\n",
       "      <td id=\"T_a9dc7_row3_col11\" class=\"data row3 col11\" >0.938776</td>\n",
       "    </tr>\n",
       "    <tr>\n",
       "      <th id=\"T_a9dc7_level0_row4\" class=\"row_heading level0 row4\" >4</th>\n",
       "      <td id=\"T_a9dc7_row4_col0\" class=\"data row4 col0\" >RF</td>\n",
       "      <td id=\"T_a9dc7_row4_col1\" class=\"data row4 col1\" >0.996825</td>\n",
       "      <td id=\"T_a9dc7_row4_col2\" class=\"data row4 col2\" >1.000000</td>\n",
       "      <td id=\"T_a9dc7_row4_col3\" class=\"data row4 col3\" >0.928315</td>\n",
       "      <td id=\"T_a9dc7_row4_col4\" class=\"data row4 col4\" >1.000000</td>\n",
       "      <td id=\"T_a9dc7_row4_col5\" class=\"data row4 col5\" >0.914286</td>\n",
       "      <td id=\"T_a9dc7_row4_col6\" class=\"data row4 col6\" >1.000000</td>\n",
       "      <td id=\"T_a9dc7_row4_col7\" class=\"data row4 col7\" >0.928315</td>\n",
       "      <td id=\"T_a9dc7_row4_col8\" class=\"data row4 col8\" >1.000000</td>\n",
       "      <td id=\"T_a9dc7_row4_col9\" class=\"data row4 col9\" >0.941176</td>\n",
       "      <td id=\"T_a9dc7_row4_col10\" class=\"data row4 col10\" >1.000000</td>\n",
       "      <td id=\"T_a9dc7_row4_col11\" class=\"data row4 col11\" >0.938776</td>\n",
       "    </tr>\n",
       "    <tr>\n",
       "      <th id=\"T_a9dc7_level0_row5\" class=\"row_heading level0 row5\" >5</th>\n",
       "      <td id=\"T_a9dc7_row5_col0\" class=\"data row5 col0\" >LR</td>\n",
       "      <td id=\"T_a9dc7_row5_col1\" class=\"data row5 col1\" >0.993091</td>\n",
       "      <td id=\"T_a9dc7_row5_col2\" class=\"data row5 col2\" >0.971698</td>\n",
       "      <td id=\"T_a9dc7_row5_col3\" class=\"data row5 col3\" >0.951613</td>\n",
       "      <td id=\"T_a9dc7_row5_col4\" class=\"data row5 col4\" >0.967033</td>\n",
       "      <td id=\"T_a9dc7_row5_col5\" class=\"data row5 col5\" >0.923077</td>\n",
       "      <td id=\"T_a9dc7_row5_col6\" class=\"data row5 col6\" >0.971698</td>\n",
       "      <td id=\"T_a9dc7_row5_col7\" class=\"data row5 col7\" >0.951613</td>\n",
       "      <td id=\"T_a9dc7_row5_col8\" class=\"data row5 col8\" >0.936170</td>\n",
       "      <td id=\"T_a9dc7_row5_col9\" class=\"data row5 col9\" >0.857143</td>\n",
       "      <td id=\"T_a9dc7_row5_col10\" class=\"data row5 col10\" >0.969072</td>\n",
       "      <td id=\"T_a9dc7_row5_col11\" class=\"data row5 col11\" >0.938776</td>\n",
       "    </tr>\n",
       "    <tr>\n",
       "      <th id=\"T_a9dc7_level0_row6\" class=\"row_heading level0 row6\" >6</th>\n",
       "      <td id=\"T_a9dc7_row6_col0\" class=\"data row6 col0\" >LightGBM</td>\n",
       "      <td id=\"T_a9dc7_row6_col1\" class=\"data row6 col1\" >0.995736</td>\n",
       "      <td id=\"T_a9dc7_row6_col2\" class=\"data row6 col2\" >1.000000</td>\n",
       "      <td id=\"T_a9dc7_row6_col3\" class=\"data row6 col3\" >0.928315</td>\n",
       "      <td id=\"T_a9dc7_row6_col4\" class=\"data row6 col4\" >1.000000</td>\n",
       "      <td id=\"T_a9dc7_row6_col5\" class=\"data row6 col5\" >0.914286</td>\n",
       "      <td id=\"T_a9dc7_row6_col6\" class=\"data row6 col6\" >1.000000</td>\n",
       "      <td id=\"T_a9dc7_row6_col7\" class=\"data row6 col7\" >0.928315</td>\n",
       "      <td id=\"T_a9dc7_row6_col8\" class=\"data row6 col8\" >1.000000</td>\n",
       "      <td id=\"T_a9dc7_row6_col9\" class=\"data row6 col9\" >0.941176</td>\n",
       "      <td id=\"T_a9dc7_row6_col10\" class=\"data row6 col10\" >1.000000</td>\n",
       "      <td id=\"T_a9dc7_row6_col11\" class=\"data row6 col11\" >0.938776</td>\n",
       "    </tr>\n",
       "    <tr>\n",
       "      <th id=\"T_a9dc7_level0_row7\" class=\"row_heading level0 row7\" >7</th>\n",
       "      <td id=\"T_a9dc7_row7_col0\" class=\"data row7 col0\" >DecisionTrees</td>\n",
       "      <td id=\"T_a9dc7_row7_col1\" class=\"data row7 col1\" >0.986750</td>\n",
       "      <td id=\"T_a9dc7_row7_col2\" class=\"data row7 col2\" >0.943396</td>\n",
       "      <td id=\"T_a9dc7_row7_col3\" class=\"data row7 col3\" >0.891577</td>\n",
       "      <td id=\"T_a9dc7_row7_col4\" class=\"data row7 col4\" >0.936170</td>\n",
       "      <td id=\"T_a9dc7_row7_col5\" class=\"data row7 col5\" >0.850000</td>\n",
       "      <td id=\"T_a9dc7_row7_col6\" class=\"data row7 col6\" >0.943396</td>\n",
       "      <td id=\"T_a9dc7_row7_col7\" class=\"data row7 col7\" >0.891577</td>\n",
       "      <td id=\"T_a9dc7_row7_col8\" class=\"data row7 col8\" >0.880000</td>\n",
       "      <td id=\"T_a9dc7_row7_col9\" class=\"data row7 col9\" >0.772727</td>\n",
       "      <td id=\"T_a9dc7_row7_col10\" class=\"data row7 col10\" >0.938144</td>\n",
       "      <td id=\"T_a9dc7_row7_col11\" class=\"data row7 col11\" >0.877551</td>\n",
       "    </tr>\n",
       "    <tr>\n",
       "      <th id=\"T_a9dc7_level0_row8\" class=\"row_heading level0 row8\" >8</th>\n",
       "      <td id=\"T_a9dc7_row8_col0\" class=\"data row8 col0\" >GaussianNB</td>\n",
       "      <td id=\"T_a9dc7_row8_col1\" class=\"data row8 col1\" >0.964013</td>\n",
       "      <td id=\"T_a9dc7_row8_col2\" class=\"data row8 col2\" >0.905446</td>\n",
       "      <td id=\"T_a9dc7_row8_col3\" class=\"data row8 col3\" >0.868280</td>\n",
       "      <td id=\"T_a9dc7_row8_col4\" class=\"data row8 col4\" >0.896552</td>\n",
       "      <td id=\"T_a9dc7_row8_col5\" class=\"data row8 col5\" >0.833333</td>\n",
       "      <td id=\"T_a9dc7_row8_col6\" class=\"data row8 col6\" >0.905446</td>\n",
       "      <td id=\"T_a9dc7_row8_col7\" class=\"data row8 col7\" >0.868280</td>\n",
       "      <td id=\"T_a9dc7_row8_col8\" class=\"data row8 col8\" >0.906977</td>\n",
       "      <td id=\"T_a9dc7_row8_col9\" class=\"data row8 col9\" >0.833333</td>\n",
       "      <td id=\"T_a9dc7_row8_col10\" class=\"data row8 col10\" >0.907216</td>\n",
       "      <td id=\"T_a9dc7_row8_col11\" class=\"data row8 col11\" >0.877551</td>\n",
       "    </tr>\n",
       "  </tbody>\n",
       "</table>\n"
      ],
      "text/plain": [
       "<pandas.io.formats.style.Styler at 0x2cd591be080>"
      ]
     },
     "execution_count": 19,
     "metadata": {},
     "output_type": "execute_result"
    }
   ],
   "source": [
    "model_scores = pd.DataFrame({\n",
    "    'model': ['SVM','KNN','AdaBoost','GBDT','RF','LR','LightGBM','DecisionTrees','GaussianNB'],\n",
    "    'balanced_accuracy_train': [balanced_accuracy_score(y_train,svm_model.predict(X_train)),\n",
    "                                balanced_accuracy_score(y_train,knn_model.predict(X_train)),\n",
    "                                balanced_accuracy_score(y_train,AdaBoost_model.predict(X_train)),\n",
    "                                balanced_accuracy_score(y_train,GBDT_model.predict(X_train)),\n",
    "                                balanced_accuracy_score(y_train,RF_model.predict(X_train)),\n",
    "                                balanced_accuracy_score(y_train,lr_model.predict(X_train)),\n",
    "                                balanced_accuracy_score(y_train,lgbm_model.predict(X_train)),\n",
    "                                balanced_accuracy_score(y_train,dtc_model.predict(X_train)),\n",
    "                                balanced_accuracy_score(y_train,GNB_model.predict(X_train)),\n",
    "                               ]})\n",
    "\n",
    "\n",
    "balanced_accuracy_test =  [balanced_accuracy_score(y_test,svm_model.predict(X_test)),\n",
    "                           balanced_accuracy_score(y_test,knn_model.predict(X_test)),\n",
    "                           balanced_accuracy_score(y_test,AdaBoost_model.predict(X_test)),\n",
    "                           balanced_accuracy_score(y_test,GBDT_model.predict(X_test)),\n",
    "                           balanced_accuracy_score(y_test,RF_model.predict(X_test)),\n",
    "                           balanced_accuracy_score(y_test,lr_model.predict(X_test)),                   \n",
    "                           balanced_accuracy_score(y_test,lgbm_model.predict(X_test)),\n",
    "                           balanced_accuracy_score(y_test,dtc_model.predict(X_test)),\n",
    "                           balanced_accuracy_score(y_test,GNB_model.predict(X_test)),  \n",
    "                          ] \n",
    "\n",
    "f1_score_train = [f1_score(y_train,svm_model.predict(X_train)),\n",
    "                  \n",
    "                  f1_score(y_train,knn_model.predict(X_train)),\n",
    "                  f1_score(y_train,AdaBoost_model.predict(X_train)),\n",
    "                  f1_score(y_train,GBDT_model.predict(X_train)),\n",
    "                  f1_score(y_train,RF_model.predict(X_train)),\n",
    "                  f1_score(y_train,lr_model.predict(X_train)),\n",
    "                  f1_score(y_train,lgbm_model.predict(X_train)),\n",
    "                  f1_score(y_train,dtc_model.predict(X_train)),\n",
    "                  f1_score(y_train,GNB_model.predict(X_train)),\n",
    "                 ]\n",
    "\n",
    "\n",
    "f1_score_test = [f1_score(y_test,svm_model.predict(X_test)),\n",
    "                 \n",
    "                 f1_score(y_test,knn_model.predict(X_test)),\n",
    "                 f1_score(y_test,AdaBoost_model.predict(X_test)),\n",
    "                 f1_score(y_test,GBDT_model.predict(X_test)),\n",
    "                 f1_score(y_test,RF_model.predict(X_test)),\n",
    "                 f1_score(y_test,lr_model.predict(X_test)),\n",
    "                 f1_score(y_test,lgbm_model.predict(X_test)),\n",
    "                 f1_score(y_test,dtc_model.predict(X_test)),\n",
    "                 f1_score(y_test,GNB_model.predict(X_test)),\n",
    "                ]\n",
    "\n",
    "roc_auc_train =  [roc_auc_score(y_train,svm_model.predict(X_train)),\n",
    "                  \n",
    "                  roc_auc_score(y_train,knn_model.predict(X_train)),\n",
    "                  roc_auc_score(y_train,AdaBoost_model.predict(X_train)),\n",
    "                  roc_auc_score(y_train,GBDT_model.predict(X_train)),\n",
    "                  roc_auc_score(y_train,RF_model.predict(X_train)),\n",
    "                  roc_auc_score(y_train,lr_model.predict(X_train)),\n",
    "                  roc_auc_score(y_train,lgbm_model.predict(X_train)),\n",
    "                  roc_auc_score(y_train,dtc_model.predict(X_train)),\n",
    "                  roc_auc_score(y_train,GNB_model.predict(X_train)),\n",
    "                 ]\n",
    "\n",
    "roc_auc_test = [roc_auc_score(y_test,svm_model.predict(X_test)),\n",
    "                \n",
    "                roc_auc_score(y_test,knn_model.predict(X_test)),\n",
    "                roc_auc_score(y_test,AdaBoost_model.predict(X_test)),\n",
    "                roc_auc_score(y_test,GBDT_model.predict(X_test)),\n",
    "                roc_auc_score(y_test,RF_model.predict(X_test)),\n",
    "                roc_auc_score(y_test,lr_model.predict(X_test)),\n",
    "                roc_auc_score(y_test,lgbm_model.predict(X_test)),\n",
    "                roc_auc_score(y_test,dtc_model.predict(X_test)),\n",
    "                roc_auc_score(y_test,GNB_model.predict(X_test)),\n",
    "                ] \n",
    "\n",
    "precision_train =  [precision_score(y_train,svm_model.predict(X_train)),\n",
    "                    \n",
    "                    precision_score(y_train,knn_model.predict(X_train)),\n",
    "                    precision_score(y_train,AdaBoost_model.predict(X_train)),\n",
    "                    precision_score(y_train,GBDT_model.predict(X_train)),\n",
    "                    precision_score(y_train,RF_model.predict(X_train)),\n",
    "                    precision_score(y_train,lr_model.predict(X_train)),\n",
    "                    precision_score(y_train,lgbm_model.predict(X_train)),\n",
    "                    precision_score(y_train,dtc_model.predict(X_train)),\n",
    "                    precision_score(y_train,GNB_model.predict(X_train)),\n",
    "                    \n",
    "                   ]\n",
    "\n",
    "precision_test = [precision_score(y_test,svm_model.predict(X_test)),\n",
    "                  \n",
    "                  precision_score(y_test,knn_model.predict(X_test)),\n",
    "                  precision_score(y_test,AdaBoost_model.predict(X_test)),\n",
    "                  precision_score(y_test,GBDT_model.predict(X_test)),\n",
    "                  precision_score(y_test,RF_model.predict(X_test)),\n",
    "                  precision_score(y_test,lr_model.predict(X_test)),\n",
    "                  precision_score(y_test,lgbm_model.predict(X_test)),\n",
    "                  precision_score(y_test,dtc_model.predict(X_test)),\n",
    "                  precision_score(y_test,GNB_model.predict(X_test)),\n",
    "                 ] \n",
    "\n",
    "\n",
    "accuracy_train =  [accuracy_score(y_train,svm_model.predict(X_train)),\n",
    "                   \n",
    "                   accuracy_score(y_train,knn_model.predict(X_train)),\n",
    "                   accuracy_score(y_train,AdaBoost_model.predict(X_train)),\n",
    "                   accuracy_score(y_train,GBDT_model.predict(X_train)),\n",
    "                   accuracy_score(y_train,RF_model.predict(X_train)),\n",
    "                   accuracy_score(y_train,lr_model.predict(X_train)),\n",
    "                   accuracy_score(y_train,lgbm_model.predict(X_train)),\n",
    "                   accuracy_score(y_train,dtc_model.predict(X_train)),\n",
    "                   accuracy_score(y_train,GNB_model.predict(X_train)),\n",
    "                 ]\n",
    "\n",
    "\n",
    "accuracy_test =  [accuracy_score(y_test,svm_model.predict(X_test)),\n",
    "                  accuracy_score(y_test,knn_model.predict(X_test)),\n",
    "                  accuracy_score(y_test,AdaBoost_model.predict(X_test)),\n",
    "                  accuracy_score(y_test,GBDT_model.predict(X_test)),\n",
    "                  accuracy_score(y_test,RF_model.predict(X_test)),\n",
    "                  accuracy_score(y_test,lr_model.predict(X_test)),\n",
    "                  accuracy_score(y_test,lgbm_model.predict(X_test)),\n",
    "                  accuracy_score(y_test,dtc_model.predict(X_test)),\n",
    "                  accuracy_score(y_test,GNB_model.predict(X_test)),\n",
    "                 ] \n",
    "\n",
    "\n",
    "\n",
    "\n",
    "\n",
    "best_score= [svm_model.best_score_, knn_model.best_score_, AdaBoost_model.best_score_,\n",
    "          GBDT_model.best_score_, RF_model.best_score_, lr_model.best_score_,lgbm_model.best_score_, dtc_model.best_score_, GNB_model.best_score_]\n",
    "\n",
    "#################################################################################\n",
    "\n",
    "model_scores['balanced_accuracy_test'],model_scores['f1_train'],model_scores['f1_test'],model_scores['roc_auc_train'],model_scores['roc_auc_test'],model_scores['precision_train'],model_scores['precision_test'],model_scores['accuracy_train'],model_scores['accuracy_test'] = [balanced_accuracy_test,f1_score_train,f1_score_test,roc_auc_train,roc_auc_test, precision_train,precision_test,accuracy_train,accuracy_test]\n",
    "\n",
    "model_scores.insert(1,'best_score',best_score)\n",
    "\n",
    "##############################################################################\n",
    "\n",
    "model_scores.to_csv('../tuned_models_raw4_3//model_scores.csv',index=False)\n",
    "\n",
    "########################\n",
    "\n",
    "model_scores.style.highlight_max(axis=0)\n"
   ]
  },
  {
   "cell_type": "code",
   "execution_count": null,
   "id": "ccf9b593-1b76-482c-9417-dfbbb2f4515e",
   "metadata": {},
   "outputs": [],
   "source": []
  },
  {
   "cell_type": "code",
   "execution_count": 22,
   "id": "e83ff5a1-3d6a-4d51-87bb-33aaceb15f20",
   "metadata": {
    "tags": []
   },
   "outputs": [
    {
     "data": {
      "application/vnd.plotly.v1+json": {
       "config": {
        "displayModeBar": false,
        "plotlyServerURL": "https://plotly.com"
       },
       "data": [
        {
         "name": "f1_train",
         "showlegend": true,
         "title": {
          "text": "f1_test"
         },
         "type": "bar",
         "visible": true,
         "x": [
          "SVM",
          "KNN",
          "AdaBoost",
          "GBDT",
          "RF",
          "LR",
          "LightGBM",
          "DecisionTrees",
          "GaussianNB"
         ],
         "y": [
          0.9555555555555556,
          1,
          0.9608938547486032,
          1,
          1,
          0.967032967032967,
          1,
          0.9361702127659576,
          0.896551724137931
         ]
        },
        {
         "name": "roc_auc_train",
         "showlegend": true,
         "title": {
          "text": "f1_test"
         },
         "type": "bar",
         "visible": false,
         "x": [
          "SVM",
          "KNN",
          "AdaBoost",
          "GBDT",
          "RF",
          "LR",
          "LightGBM",
          "DecisionTrees",
          "GaussianNB"
         ],
         "y": [
          0.9603344768439108,
          1,
          0.9650514579759862,
          1,
          1,
          0.9716981132075472,
          1,
          0.9433962264150944,
          0.9054459691252144
         ]
        },
        {
         "name": "balanced_accuracy_train",
         "showlegend": true,
         "title": {
          "text": "f1_test"
         },
         "type": "bar",
         "visible": false,
         "x": [
          "SVM",
          "KNN",
          "AdaBoost",
          "GBDT",
          "RF",
          "LR",
          "LightGBM",
          "DecisionTrees",
          "GaussianNB"
         ],
         "y": [
          0.9603344768439108,
          1,
          0.9650514579759863,
          1,
          1,
          0.9716981132075472,
          1,
          0.9433962264150944,
          0.9054459691252144
         ]
        },
        {
         "name": "precision_train",
         "showlegend": true,
         "title": {
          "text": "f1_test"
         },
         "type": "bar",
         "visible": false,
         "x": [
          "SVM",
          "KNN",
          "AdaBoost",
          "GBDT",
          "RF",
          "LR",
          "LightGBM",
          "DecisionTrees",
          "GaussianNB"
         ],
         "y": [
          0.9347826086956522,
          1,
          0.945054945054945,
          1,
          1,
          0.9361702127659576,
          1,
          0.88,
          0.9069767441860463
         ]
        },
        {
         "name": "accuracy_train",
         "showlegend": true,
         "title": {
          "text": "f1_test"
         },
         "type": "bar",
         "visible": false,
         "x": [
          "SVM",
          "KNN",
          "AdaBoost",
          "GBDT",
          "RF",
          "LR",
          "LightGBM",
          "DecisionTrees",
          "GaussianNB"
         ],
         "y": [
          0.9587628865979382,
          1,
          0.963917525773196,
          1,
          1,
          0.9690721649484536,
          1,
          0.9381443298969072,
          0.9072164948453608
         ]
        },
        {
         "name": "f1_test",
         "showlegend": true,
         "title": {
          "text": "f1_test"
         },
         "type": "bar",
         "visible": true,
         "x": [
          "SVM",
          "KNN",
          "AdaBoost",
          "GBDT",
          "RF",
          "LR",
          "LightGBM",
          "DecisionTrees",
          "GaussianNB"
         ],
         "y": [
          0.923076923076923,
          0.7999999999999999,
          0.8648648648648649,
          0.9142857142857144,
          0.9142857142857144,
          0.923076923076923,
          0.9142857142857144,
          0.85,
          0.8333333333333334
         ]
        },
        {
         "name": "roc_auc_test",
         "showlegend": true,
         "title": {
          "text": "f1_test"
         },
         "type": "bar",
         "visible": false,
         "x": [
          "SVM",
          "KNN",
          "AdaBoost",
          "GBDT",
          "RF",
          "LR",
          "LightGBM",
          "DecisionTrees",
          "GaussianNB"
         ],
         "y": [
          0.9516129032258064,
          0.8405017921146952,
          0.8960573476702508,
          0.92831541218638,
          0.92831541218638,
          0.9516129032258064,
          0.92831541218638,
          0.8915770609318996,
          0.8682795698924731
         ]
        },
        {
         "name": "balanced_accuracy_test",
         "showlegend": true,
         "title": {
          "text": "f1_test"
         },
         "type": "bar",
         "visible": false,
         "x": [
          "SVM",
          "KNN",
          "AdaBoost",
          "GBDT",
          "RF",
          "LR",
          "LightGBM",
          "DecisionTrees",
          "GaussianNB"
         ],
         "y": [
          0.9516129032258064,
          0.8405017921146953,
          0.8960573476702509,
          0.92831541218638,
          0.92831541218638,
          0.9516129032258064,
          0.92831541218638,
          0.8915770609318996,
          0.8682795698924731
         ]
        },
        {
         "name": "precision_test",
         "showlegend": true,
         "title": {
          "text": "f1_test"
         },
         "type": "bar",
         "visible": false,
         "x": [
          "SVM",
          "KNN",
          "AdaBoost",
          "GBDT",
          "RF",
          "LR",
          "LightGBM",
          "DecisionTrees",
          "GaussianNB"
         ],
         "y": [
          0.8571428571428571,
          0.8235294117647058,
          0.8421052631578947,
          0.9411764705882352,
          0.9411764705882352,
          0.8571428571428571,
          0.9411764705882352,
          0.7727272727272727,
          0.8333333333333334
         ]
        },
        {
         "name": "accuracy_test",
         "showlegend": true,
         "title": {
          "text": "f1_test"
         },
         "type": "bar",
         "visible": false,
         "x": [
          "SVM",
          "KNN",
          "AdaBoost",
          "GBDT",
          "RF",
          "LR",
          "LightGBM",
          "DecisionTrees",
          "GaussianNB"
         ],
         "y": [
          0.9387755102040816,
          0.8571428571428571,
          0.8979591836734694,
          0.9387755102040816,
          0.9387755102040816,
          0.9387755102040816,
          0.9387755102040816,
          0.8775510204081632,
          0.8775510204081632
         ]
        }
       ],
       "layout": {
        "autosize": true,
        "legend": {
         "orientation": "h",
         "x": 0.5,
         "xanchor": "center",
         "y": -0.5,
         "yanchor": "bottom"
        },
        "margin": {
         "autoexpand": true
        },
        "paper_bgcolor": "rgba(0, 0, 0, 0)",
        "plot_bgcolor": "rgba(0, 0, 0, 0)",
        "showlegend": true,
        "template": {
         "data": {
          "bar": [
           {
            "error_x": {
             "color": "#2a3f5f"
            },
            "error_y": {
             "color": "#2a3f5f"
            },
            "marker": {
             "line": {
              "color": "#E5ECF6",
              "width": 0.5
             },
             "pattern": {
              "fillmode": "overlay",
              "size": 10,
              "solidity": 0.2
             }
            },
            "type": "bar"
           }
          ],
          "barpolar": [
           {
            "marker": {
             "line": {
              "color": "#E5ECF6",
              "width": 0.5
             },
             "pattern": {
              "fillmode": "overlay",
              "size": 10,
              "solidity": 0.2
             }
            },
            "type": "barpolar"
           }
          ],
          "carpet": [
           {
            "aaxis": {
             "endlinecolor": "#2a3f5f",
             "gridcolor": "white",
             "linecolor": "white",
             "minorgridcolor": "white",
             "startlinecolor": "#2a3f5f"
            },
            "baxis": {
             "endlinecolor": "#2a3f5f",
             "gridcolor": "white",
             "linecolor": "white",
             "minorgridcolor": "white",
             "startlinecolor": "#2a3f5f"
            },
            "type": "carpet"
           }
          ],
          "choropleth": [
           {
            "colorbar": {
             "outlinewidth": 0,
             "ticks": ""
            },
            "type": "choropleth"
           }
          ],
          "contour": [
           {
            "colorbar": {
             "outlinewidth": 0,
             "ticks": ""
            },
            "colorscale": [
             [
              0,
              "#0d0887"
             ],
             [
              0.1111111111111111,
              "#46039f"
             ],
             [
              0.2222222222222222,
              "#7201a8"
             ],
             [
              0.3333333333333333,
              "#9c179e"
             ],
             [
              0.4444444444444444,
              "#bd3786"
             ],
             [
              0.5555555555555556,
              "#d8576b"
             ],
             [
              0.6666666666666666,
              "#ed7953"
             ],
             [
              0.7777777777777778,
              "#fb9f3a"
             ],
             [
              0.8888888888888888,
              "#fdca26"
             ],
             [
              1,
              "#f0f921"
             ]
            ],
            "type": "contour"
           }
          ],
          "contourcarpet": [
           {
            "colorbar": {
             "outlinewidth": 0,
             "ticks": ""
            },
            "type": "contourcarpet"
           }
          ],
          "heatmap": [
           {
            "colorbar": {
             "outlinewidth": 0,
             "ticks": ""
            },
            "colorscale": [
             [
              0,
              "#0d0887"
             ],
             [
              0.1111111111111111,
              "#46039f"
             ],
             [
              0.2222222222222222,
              "#7201a8"
             ],
             [
              0.3333333333333333,
              "#9c179e"
             ],
             [
              0.4444444444444444,
              "#bd3786"
             ],
             [
              0.5555555555555556,
              "#d8576b"
             ],
             [
              0.6666666666666666,
              "#ed7953"
             ],
             [
              0.7777777777777778,
              "#fb9f3a"
             ],
             [
              0.8888888888888888,
              "#fdca26"
             ],
             [
              1,
              "#f0f921"
             ]
            ],
            "type": "heatmap"
           }
          ],
          "heatmapgl": [
           {
            "colorbar": {
             "outlinewidth": 0,
             "ticks": ""
            },
            "colorscale": [
             [
              0,
              "#0d0887"
             ],
             [
              0.1111111111111111,
              "#46039f"
             ],
             [
              0.2222222222222222,
              "#7201a8"
             ],
             [
              0.3333333333333333,
              "#9c179e"
             ],
             [
              0.4444444444444444,
              "#bd3786"
             ],
             [
              0.5555555555555556,
              "#d8576b"
             ],
             [
              0.6666666666666666,
              "#ed7953"
             ],
             [
              0.7777777777777778,
              "#fb9f3a"
             ],
             [
              0.8888888888888888,
              "#fdca26"
             ],
             [
              1,
              "#f0f921"
             ]
            ],
            "type": "heatmapgl"
           }
          ],
          "histogram": [
           {
            "marker": {
             "pattern": {
              "fillmode": "overlay",
              "size": 10,
              "solidity": 0.2
             }
            },
            "type": "histogram"
           }
          ],
          "histogram2d": [
           {
            "colorbar": {
             "outlinewidth": 0,
             "ticks": ""
            },
            "colorscale": [
             [
              0,
              "#0d0887"
             ],
             [
              0.1111111111111111,
              "#46039f"
             ],
             [
              0.2222222222222222,
              "#7201a8"
             ],
             [
              0.3333333333333333,
              "#9c179e"
             ],
             [
              0.4444444444444444,
              "#bd3786"
             ],
             [
              0.5555555555555556,
              "#d8576b"
             ],
             [
              0.6666666666666666,
              "#ed7953"
             ],
             [
              0.7777777777777778,
              "#fb9f3a"
             ],
             [
              0.8888888888888888,
              "#fdca26"
             ],
             [
              1,
              "#f0f921"
             ]
            ],
            "type": "histogram2d"
           }
          ],
          "histogram2dcontour": [
           {
            "colorbar": {
             "outlinewidth": 0,
             "ticks": ""
            },
            "colorscale": [
             [
              0,
              "#0d0887"
             ],
             [
              0.1111111111111111,
              "#46039f"
             ],
             [
              0.2222222222222222,
              "#7201a8"
             ],
             [
              0.3333333333333333,
              "#9c179e"
             ],
             [
              0.4444444444444444,
              "#bd3786"
             ],
             [
              0.5555555555555556,
              "#d8576b"
             ],
             [
              0.6666666666666666,
              "#ed7953"
             ],
             [
              0.7777777777777778,
              "#fb9f3a"
             ],
             [
              0.8888888888888888,
              "#fdca26"
             ],
             [
              1,
              "#f0f921"
             ]
            ],
            "type": "histogram2dcontour"
           }
          ],
          "mesh3d": [
           {
            "colorbar": {
             "outlinewidth": 0,
             "ticks": ""
            },
            "type": "mesh3d"
           }
          ],
          "parcoords": [
           {
            "line": {
             "colorbar": {
              "outlinewidth": 0,
              "ticks": ""
             }
            },
            "type": "parcoords"
           }
          ],
          "pie": [
           {
            "automargin": true,
            "type": "pie"
           }
          ],
          "scatter": [
           {
            "fillpattern": {
             "fillmode": "overlay",
             "size": 10,
             "solidity": 0.2
            },
            "type": "scatter"
           }
          ],
          "scatter3d": [
           {
            "line": {
             "colorbar": {
              "outlinewidth": 0,
              "ticks": ""
             }
            },
            "marker": {
             "colorbar": {
              "outlinewidth": 0,
              "ticks": ""
             }
            },
            "type": "scatter3d"
           }
          ],
          "scattercarpet": [
           {
            "marker": {
             "colorbar": {
              "outlinewidth": 0,
              "ticks": ""
             }
            },
            "type": "scattercarpet"
           }
          ],
          "scattergeo": [
           {
            "marker": {
             "colorbar": {
              "outlinewidth": 0,
              "ticks": ""
             }
            },
            "type": "scattergeo"
           }
          ],
          "scattergl": [
           {
            "marker": {
             "colorbar": {
              "outlinewidth": 0,
              "ticks": ""
             }
            },
            "type": "scattergl"
           }
          ],
          "scattermapbox": [
           {
            "marker": {
             "colorbar": {
              "outlinewidth": 0,
              "ticks": ""
             }
            },
            "type": "scattermapbox"
           }
          ],
          "scatterpolar": [
           {
            "marker": {
             "colorbar": {
              "outlinewidth": 0,
              "ticks": ""
             }
            },
            "type": "scatterpolar"
           }
          ],
          "scatterpolargl": [
           {
            "marker": {
             "colorbar": {
              "outlinewidth": 0,
              "ticks": ""
             }
            },
            "type": "scatterpolargl"
           }
          ],
          "scatterternary": [
           {
            "marker": {
             "colorbar": {
              "outlinewidth": 0,
              "ticks": ""
             }
            },
            "type": "scatterternary"
           }
          ],
          "surface": [
           {
            "colorbar": {
             "outlinewidth": 0,
             "ticks": ""
            },
            "colorscale": [
             [
              0,
              "#0d0887"
             ],
             [
              0.1111111111111111,
              "#46039f"
             ],
             [
              0.2222222222222222,
              "#7201a8"
             ],
             [
              0.3333333333333333,
              "#9c179e"
             ],
             [
              0.4444444444444444,
              "#bd3786"
             ],
             [
              0.5555555555555556,
              "#d8576b"
             ],
             [
              0.6666666666666666,
              "#ed7953"
             ],
             [
              0.7777777777777778,
              "#fb9f3a"
             ],
             [
              0.8888888888888888,
              "#fdca26"
             ],
             [
              1,
              "#f0f921"
             ]
            ],
            "type": "surface"
           }
          ],
          "table": [
           {
            "cells": {
             "fill": {
              "color": "#EBF0F8"
             },
             "line": {
              "color": "white"
             }
            },
            "header": {
             "fill": {
              "color": "#C8D4E3"
             },
             "line": {
              "color": "white"
             }
            },
            "type": "table"
           }
          ]
         },
         "layout": {
          "annotationdefaults": {
           "arrowcolor": "#2a3f5f",
           "arrowhead": 0,
           "arrowwidth": 1
          },
          "autotypenumbers": "strict",
          "coloraxis": {
           "colorbar": {
            "outlinewidth": 0,
            "ticks": ""
           }
          },
          "colorscale": {
           "diverging": [
            [
             0,
             "#8e0152"
            ],
            [
             0.1,
             "#c51b7d"
            ],
            [
             0.2,
             "#de77ae"
            ],
            [
             0.3,
             "#f1b6da"
            ],
            [
             0.4,
             "#fde0ef"
            ],
            [
             0.5,
             "#f7f7f7"
            ],
            [
             0.6,
             "#e6f5d0"
            ],
            [
             0.7,
             "#b8e186"
            ],
            [
             0.8,
             "#7fbc41"
            ],
            [
             0.9,
             "#4d9221"
            ],
            [
             1,
             "#276419"
            ]
           ],
           "sequential": [
            [
             0,
             "#0d0887"
            ],
            [
             0.1111111111111111,
             "#46039f"
            ],
            [
             0.2222222222222222,
             "#7201a8"
            ],
            [
             0.3333333333333333,
             "#9c179e"
            ],
            [
             0.4444444444444444,
             "#bd3786"
            ],
            [
             0.5555555555555556,
             "#d8576b"
            ],
            [
             0.6666666666666666,
             "#ed7953"
            ],
            [
             0.7777777777777778,
             "#fb9f3a"
            ],
            [
             0.8888888888888888,
             "#fdca26"
            ],
            [
             1,
             "#f0f921"
            ]
           ],
           "sequentialminus": [
            [
             0,
             "#0d0887"
            ],
            [
             0.1111111111111111,
             "#46039f"
            ],
            [
             0.2222222222222222,
             "#7201a8"
            ],
            [
             0.3333333333333333,
             "#9c179e"
            ],
            [
             0.4444444444444444,
             "#bd3786"
            ],
            [
             0.5555555555555556,
             "#d8576b"
            ],
            [
             0.6666666666666666,
             "#ed7953"
            ],
            [
             0.7777777777777778,
             "#fb9f3a"
            ],
            [
             0.8888888888888888,
             "#fdca26"
            ],
            [
             1,
             "#f0f921"
            ]
           ]
          },
          "colorway": [
           "#636efa",
           "#EF553B",
           "#00cc96",
           "#ab63fa",
           "#FFA15A",
           "#19d3f3",
           "#FF6692",
           "#B6E880",
           "#FF97FF",
           "#FECB52"
          ],
          "font": {
           "color": "#2a3f5f"
          },
          "geo": {
           "bgcolor": "white",
           "lakecolor": "white",
           "landcolor": "#E5ECF6",
           "showlakes": true,
           "showland": true,
           "subunitcolor": "white"
          },
          "hoverlabel": {
           "align": "left"
          },
          "hovermode": "closest",
          "mapbox": {
           "style": "light"
          },
          "paper_bgcolor": "white",
          "plot_bgcolor": "#E5ECF6",
          "polar": {
           "angularaxis": {
            "gridcolor": "white",
            "linecolor": "white",
            "ticks": ""
           },
           "bgcolor": "#E5ECF6",
           "radialaxis": {
            "gridcolor": "white",
            "linecolor": "white",
            "ticks": ""
           }
          },
          "scene": {
           "xaxis": {
            "backgroundcolor": "#E5ECF6",
            "gridcolor": "white",
            "gridwidth": 2,
            "linecolor": "white",
            "showbackground": true,
            "ticks": "",
            "zerolinecolor": "white"
           },
           "yaxis": {
            "backgroundcolor": "#E5ECF6",
            "gridcolor": "white",
            "gridwidth": 2,
            "linecolor": "white",
            "showbackground": true,
            "ticks": "",
            "zerolinecolor": "white"
           },
           "zaxis": {
            "backgroundcolor": "#E5ECF6",
            "gridcolor": "white",
            "gridwidth": 2,
            "linecolor": "white",
            "showbackground": true,
            "ticks": "",
            "zerolinecolor": "white"
           }
          },
          "shapedefaults": {
           "line": {
            "color": "#2a3f5f"
           }
          },
          "ternary": {
           "aaxis": {
            "gridcolor": "white",
            "linecolor": "white",
            "ticks": ""
           },
           "baxis": {
            "gridcolor": "white",
            "linecolor": "white",
            "ticks": ""
           },
           "bgcolor": "#E5ECF6",
           "caxis": {
            "gridcolor": "white",
            "linecolor": "white",
            "ticks": ""
           }
          },
          "title": {
           "x": 0.05
          },
          "xaxis": {
           "automargin": true,
           "gridcolor": "white",
           "linecolor": "white",
           "ticks": "",
           "title": {
            "standoff": 15
           },
           "zerolinecolor": "white",
           "zerolinewidth": 2
          },
          "yaxis": {
           "automargin": true,
           "gridcolor": "white",
           "linecolor": "white",
           "ticks": "",
           "title": {
            "standoff": 15
           },
           "zerolinecolor": "white",
           "zerolinewidth": 2
          }
         }
        },
        "title": {
         "text": "Model Scores: Without Transformation(Raw Data)",
         "y": 0.96
        },
        "updatemenus": [
         {
          "active": 1,
          "buttons": [
           {
            "args": [
             {
              "showlegend": true,
              "title": "All",
              "visible": [
               true,
               true,
               true,
               true,
               true
              ]
             }
            ],
            "label": "Select",
            "method": "update"
           },
           {
            "args": [
             {
              "showlegend": true,
              "title": "f1_test",
              "visible": [
               true,
               false,
               false,
               false,
               false
              ]
             }
            ],
            "label": "f1_test",
            "method": "update"
           },
           {
            "args": [
             {
              "showlegend": true,
              "title": "roc_auc_test",
              "visible": [
               false,
               true,
               false,
               false,
               false
              ]
             }
            ],
            "label": "roc_auc_test",
            "method": "update"
           },
           {
            "args": [
             {
              "showlegend": true,
              "title": "balanced_accuracy_test",
              "visible": [
               false,
               false,
               true,
               false,
               false
              ]
             }
            ],
            "label": "balanced_accuracy_test",
            "method": "update"
           },
           {
            "args": [
             {
              "showlegend": true,
              "title": "precision_test",
              "visible": [
               false,
               false,
               false,
               true,
               false
              ]
             }
            ],
            "label": "precision_test",
            "method": "update"
           },
           {
            "args": [
             {
              "showlegend": true,
              "title": "accuracy_test",
              "visible": [
               false,
               false,
               false,
               false,
               true
              ]
             }
            ],
            "label": "accuracy_test",
            "method": "update"
           }
          ],
          "direction": "right",
          "pad": {
           "l": 5,
           "r": 5,
           "t": 5
          },
          "showactive": true,
          "visible": true,
          "x": -0.03,
          "xanchor": "left",
          "y": 1.1,
          "yanchor": "bottom"
         }
        ],
        "xaxis": {
         "autorange": true,
         "range": [
          -0.5,
          8.5
         ],
         "type": "category"
        },
        "yaxis": {
         "autorange": true,
         "range": [
          -0.10229390261961514,
          0.005383889611558692
         ],
         "type": "log"
        }
       }
      },
      "image/png": "[encoded data removed]",
      "text/html": [
       "<div>                            <div id=\"cb22aff3-b9c8-4521-a5fe-5b64fa26fe98\" class=\"plotly-graph-div\" style=\"height:400px; width:100%;\"></div>            <script type=\"text/javascript\">                require([\"plotly\"], function(Plotly) {                    window.PLOTLYENV=window.PLOTLYENV || {};                                    if (document.getElementById(\"cb22aff3-b9c8-4521-a5fe-5b64fa26fe98\")) {                    Plotly.newPlot(                        \"cb22aff3-b9c8-4521-a5fe-5b64fa26fe98\",                        [{\"name\":\"f1_train\",\"x\":[\"SVM\",\"KNN\",\"AdaBoost\",\"GBDT\",\"RF\",\"LR\",\"LightGBM\",\"DecisionTrees\",\"GaussianNB\"],\"y\":[0.9555555555555556,1.0,0.9608938547486032,1.0,1.0,0.967032967032967,1.0,0.9361702127659576,0.896551724137931],\"type\":\"bar\"},{\"name\":\"roc_auc_train\",\"x\":[\"SVM\",\"KNN\",\"AdaBoost\",\"GBDT\",\"RF\",\"LR\",\"LightGBM\",\"DecisionTrees\",\"GaussianNB\"],\"y\":[0.9603344768439108,1.0,0.9650514579759862,1.0,1.0,0.9716981132075472,1.0,0.9433962264150944,0.9054459691252144],\"type\":\"bar\"},{\"name\":\"balanced_accuracy_train\",\"x\":[\"SVM\",\"KNN\",\"AdaBoost\",\"GBDT\",\"RF\",\"LR\",\"LightGBM\",\"DecisionTrees\",\"GaussianNB\"],\"y\":[0.9603344768439108,1.0,0.9650514579759863,1.0,1.0,0.9716981132075472,1.0,0.9433962264150944,0.9054459691252144],\"type\":\"bar\"},{\"name\":\"precision_train\",\"x\":[\"SVM\",\"KNN\",\"AdaBoost\",\"GBDT\",\"RF\",\"LR\",\"LightGBM\",\"DecisionTrees\",\"GaussianNB\"],\"y\":[0.9347826086956522,1.0,0.945054945054945,1.0,1.0,0.9361702127659576,1.0,0.88,0.9069767441860463],\"type\":\"bar\"},{\"name\":\"accuracy_train\",\"x\":[\"SVM\",\"KNN\",\"AdaBoost\",\"GBDT\",\"RF\",\"LR\",\"LightGBM\",\"DecisionTrees\",\"GaussianNB\"],\"y\":[0.9587628865979382,1.0,0.963917525773196,1.0,1.0,0.9690721649484536,1.0,0.9381443298969072,0.9072164948453608],\"type\":\"bar\"},{\"name\":\"f1_test\",\"x\":[\"SVM\",\"KNN\",\"AdaBoost\",\"GBDT\",\"RF\",\"LR\",\"LightGBM\",\"DecisionTrees\",\"GaussianNB\"],\"y\":[0.923076923076923,0.7999999999999999,0.8648648648648649,0.9142857142857144,0.9142857142857144,0.923076923076923,0.9142857142857144,0.85,0.8333333333333334],\"type\":\"bar\"},{\"name\":\"roc_auc_test\",\"x\":[\"SVM\",\"KNN\",\"AdaBoost\",\"GBDT\",\"RF\",\"LR\",\"LightGBM\",\"DecisionTrees\",\"GaussianNB\"],\"y\":[0.9516129032258064,0.8405017921146952,0.8960573476702508,0.92831541218638,0.92831541218638,0.9516129032258064,0.92831541218638,0.8915770609318996,0.8682795698924731],\"type\":\"bar\"},{\"name\":\"balanced_accuracy_test\",\"x\":[\"SVM\",\"KNN\",\"AdaBoost\",\"GBDT\",\"RF\",\"LR\",\"LightGBM\",\"DecisionTrees\",\"GaussianNB\"],\"y\":[0.9516129032258064,0.8405017921146953,0.8960573476702509,0.92831541218638,0.92831541218638,0.9516129032258064,0.92831541218638,0.8915770609318996,0.8682795698924731],\"type\":\"bar\"},{\"name\":\"precision_test\",\"x\":[\"SVM\",\"KNN\",\"AdaBoost\",\"GBDT\",\"RF\",\"LR\",\"LightGBM\",\"DecisionTrees\",\"GaussianNB\"],\"y\":[0.8571428571428571,0.8235294117647058,0.8421052631578947,0.9411764705882352,0.9411764705882352,0.8571428571428571,0.9411764705882352,0.7727272727272727,0.8333333333333334],\"type\":\"bar\"},{\"name\":\"accuracy_test\",\"x\":[\"SVM\",\"KNN\",\"AdaBoost\",\"GBDT\",\"RF\",\"LR\",\"LightGBM\",\"DecisionTrees\",\"GaussianNB\"],\"y\":[0.9387755102040816,0.8571428571428571,0.8979591836734694,0.9387755102040816,0.9387755102040816,0.9387755102040816,0.9387755102040816,0.8775510204081632,0.8775510204081632],\"type\":\"bar\"}],                        {\"template\":{\"data\":{\"histogram2dcontour\":[{\"type\":\"histogram2dcontour\",\"colorbar\":{\"outlinewidth\":0,\"ticks\":\"\"},\"colorscale\":[[0.0,\"#0d0887\"],[0.1111111111111111,\"#46039f\"],[0.2222222222222222,\"#7201a8\"],[0.3333333333333333,\"#9c179e\"],[0.4444444444444444,\"#bd3786\"],[0.5555555555555556,\"#d8576b\"],[0.6666666666666666,\"#ed7953\"],[0.7777777777777778,\"#fb9f3a\"],[0.8888888888888888,\"#fdca26\"],[1.0,\"#f0f921\"]]}],\"choropleth\":[{\"type\":\"choropleth\",\"colorbar\":{\"outlinewidth\":0,\"ticks\":\"\"}}],\"histogram2d\":[{\"type\":\"histogram2d\",\"colorbar\":{\"outlinewidth\":0,\"ticks\":\"\"},\"colorscale\":[[0.0,\"#0d0887\"],[0.1111111111111111,\"#46039f\"],[0.2222222222222222,\"#7201a8\"],[0.3333333333333333,\"#9c179e\"],[0.4444444444444444,\"#bd3786\"],[0.5555555555555556,\"#d8576b\"],[0.6666666666666666,\"#ed7953\"],[0.7777777777777778,\"#fb9f3a\"],[0.8888888888888888,\"#fdca26\"],[1.0,\"#f0f921\"]]}],\"heatmap\":[{\"type\":\"heatmap\",\"colorbar\":{\"outlinewidth\":0,\"ticks\":\"\"},\"colorscale\":[[0.0,\"#0d0887\"],[0.1111111111111111,\"#46039f\"],[0.2222222222222222,\"#7201a8\"],[0.3333333333333333,\"#9c179e\"],[0.4444444444444444,\"#bd3786\"],[0.5555555555555556,\"#d8576b\"],[0.6666666666666666,\"#ed7953\"],[0.7777777777777778,\"#fb9f3a\"],[0.8888888888888888,\"#fdca26\"],[1.0,\"#f0f921\"]]}],\"heatmapgl\":[{\"type\":\"heatmapgl\",\"colorbar\":{\"outlinewidth\":0,\"ticks\":\"\"},\"colorscale\":[[0.0,\"#0d0887\"],[0.1111111111111111,\"#46039f\"],[0.2222222222222222,\"#7201a8\"],[0.3333333333333333,\"#9c179e\"],[0.4444444444444444,\"#bd3786\"],[0.5555555555555556,\"#d8576b\"],[0.6666666666666666,\"#ed7953\"],[0.7777777777777778,\"#fb9f3a\"],[0.8888888888888888,\"#fdca26\"],[1.0,\"#f0f921\"]]}],\"contourcarpet\":[{\"type\":\"contourcarpet\",\"colorbar\":{\"outlinewidth\":0,\"ticks\":\"\"}}],\"contour\":[{\"type\":\"contour\",\"colorbar\":{\"outlinewidth\":0,\"ticks\":\"\"},\"colorscale\":[[0.0,\"#0d0887\"],[0.1111111111111111,\"#46039f\"],[0.2222222222222222,\"#7201a8\"],[0.3333333333333333,\"#9c179e\"],[0.4444444444444444,\"#bd3786\"],[0.5555555555555556,\"#d8576b\"],[0.6666666666666666,\"#ed7953\"],[0.7777777777777778,\"#fb9f3a\"],[0.8888888888888888,\"#fdca26\"],[1.0,\"#f0f921\"]]}],\"surface\":[{\"type\":\"surface\",\"colorbar\":{\"outlinewidth\":0,\"ticks\":\"\"},\"colorscale\":[[0.0,\"#0d0887\"],[0.1111111111111111,\"#46039f\"],[0.2222222222222222,\"#7201a8\"],[0.3333333333333333,\"#9c179e\"],[0.4444444444444444,\"#bd3786\"],[0.5555555555555556,\"#d8576b\"],[0.6666666666666666,\"#ed7953\"],[0.7777777777777778,\"#fb9f3a\"],[0.8888888888888888,\"#fdca26\"],[1.0,\"#f0f921\"]]}],\"mesh3d\":[{\"type\":\"mesh3d\",\"colorbar\":{\"outlinewidth\":0,\"ticks\":\"\"}}],\"scatter\":[{\"fillpattern\":{\"fillmode\":\"overlay\",\"size\":10,\"solidity\":0.2},\"type\":\"scatter\"}],\"parcoords\":[{\"type\":\"parcoords\",\"line\":{\"colorbar\":{\"outlinewidth\":0,\"ticks\":\"\"}}}],\"scatterpolargl\":[{\"type\":\"scatterpolargl\",\"marker\":{\"colorbar\":{\"outlinewidth\":0,\"ticks\":\"\"}}}],\"bar\":[{\"error_x\":{\"color\":\"#2a3f5f\"},\"error_y\":{\"color\":\"#2a3f5f\"},\"marker\":{\"line\":{\"color\":\"#E5ECF6\",\"width\":0.5},\"pattern\":{\"fillmode\":\"overlay\",\"size\":10,\"solidity\":0.2}},\"type\":\"bar\"}],\"scattergeo\":[{\"type\":\"scattergeo\",\"marker\":{\"colorbar\":{\"outlinewidth\":0,\"ticks\":\"\"}}}],\"scatterpolar\":[{\"type\":\"scatterpolar\",\"marker\":{\"colorbar\":{\"outlinewidth\":0,\"ticks\":\"\"}}}],\"histogram\":[{\"marker\":{\"pattern\":{\"fillmode\":\"overlay\",\"size\":10,\"solidity\":0.2}},\"type\":\"histogram\"}],\"scattergl\":[{\"type\":\"scattergl\",\"marker\":{\"colorbar\":{\"outlinewidth\":0,\"ticks\":\"\"}}}],\"scatter3d\":[{\"type\":\"scatter3d\",\"line\":{\"colorbar\":{\"outlinewidth\":0,\"ticks\":\"\"}},\"marker\":{\"colorbar\":{\"outlinewidth\":0,\"ticks\":\"\"}}}],\"scattermapbox\":[{\"type\":\"scattermapbox\",\"marker\":{\"colorbar\":{\"outlinewidth\":0,\"ticks\":\"\"}}}],\"scatterternary\":[{\"type\":\"scatterternary\",\"marker\":{\"colorbar\":{\"outlinewidth\":0,\"ticks\":\"\"}}}],\"scattercarpet\":[{\"type\":\"scattercarpet\",\"marker\":{\"colorbar\":{\"outlinewidth\":0,\"ticks\":\"\"}}}],\"carpet\":[{\"aaxis\":{\"endlinecolor\":\"#2a3f5f\",\"gridcolor\":\"white\",\"linecolor\":\"white\",\"minorgridcolor\":\"white\",\"startlinecolor\":\"#2a3f5f\"},\"baxis\":{\"endlinecolor\":\"#2a3f5f\",\"gridcolor\":\"white\",\"linecolor\":\"white\",\"minorgridcolor\":\"white\",\"startlinecolor\":\"#2a3f5f\"},\"type\":\"carpet\"}],\"table\":[{\"cells\":{\"fill\":{\"color\":\"#EBF0F8\"},\"line\":{\"color\":\"white\"}},\"header\":{\"fill\":{\"color\":\"#C8D4E3\"},\"line\":{\"color\":\"white\"}},\"type\":\"table\"}],\"barpolar\":[{\"marker\":{\"line\":{\"color\":\"#E5ECF6\",\"width\":0.5},\"pattern\":{\"fillmode\":\"overlay\",\"size\":10,\"solidity\":0.2}},\"type\":\"barpolar\"}],\"pie\":[{\"automargin\":true,\"type\":\"pie\"}]},\"layout\":{\"autotypenumbers\":\"strict\",\"colorway\":[\"#636efa\",\"#EF553B\",\"#00cc96\",\"#ab63fa\",\"#FFA15A\",\"#19d3f3\",\"#FF6692\",\"#B6E880\",\"#FF97FF\",\"#FECB52\"],\"font\":{\"color\":\"#2a3f5f\"},\"hovermode\":\"closest\",\"hoverlabel\":{\"align\":\"left\"},\"paper_bgcolor\":\"white\",\"plot_bgcolor\":\"#E5ECF6\",\"polar\":{\"bgcolor\":\"#E5ECF6\",\"angularaxis\":{\"gridcolor\":\"white\",\"linecolor\":\"white\",\"ticks\":\"\"},\"radialaxis\":{\"gridcolor\":\"white\",\"linecolor\":\"white\",\"ticks\":\"\"}},\"ternary\":{\"bgcolor\":\"#E5ECF6\",\"aaxis\":{\"gridcolor\":\"white\",\"linecolor\":\"white\",\"ticks\":\"\"},\"baxis\":{\"gridcolor\":\"white\",\"linecolor\":\"white\",\"ticks\":\"\"},\"caxis\":{\"gridcolor\":\"white\",\"linecolor\":\"white\",\"ticks\":\"\"}},\"coloraxis\":{\"colorbar\":{\"outlinewidth\":0,\"ticks\":\"\"}},\"colorscale\":{\"sequential\":[[0.0,\"#0d0887\"],[0.1111111111111111,\"#46039f\"],[0.2222222222222222,\"#7201a8\"],[0.3333333333333333,\"#9c179e\"],[0.4444444444444444,\"#bd3786\"],[0.5555555555555556,\"#d8576b\"],[0.6666666666666666,\"#ed7953\"],[0.7777777777777778,\"#fb9f3a\"],[0.8888888888888888,\"#fdca26\"],[1.0,\"#f0f921\"]],\"sequentialminus\":[[0.0,\"#0d0887\"],[0.1111111111111111,\"#46039f\"],[0.2222222222222222,\"#7201a8\"],[0.3333333333333333,\"#9c179e\"],[0.4444444444444444,\"#bd3786\"],[0.5555555555555556,\"#d8576b\"],[0.6666666666666666,\"#ed7953\"],[0.7777777777777778,\"#fb9f3a\"],[0.8888888888888888,\"#fdca26\"],[1.0,\"#f0f921\"]],\"diverging\":[[0,\"#8e0152\"],[0.1,\"#c51b7d\"],[0.2,\"#de77ae\"],[0.3,\"#f1b6da\"],[0.4,\"#fde0ef\"],[0.5,\"#f7f7f7\"],[0.6,\"#e6f5d0\"],[0.7,\"#b8e186\"],[0.8,\"#7fbc41\"],[0.9,\"#4d9221\"],[1,\"#276419\"]]},\"xaxis\":{\"gridcolor\":\"white\",\"linecolor\":\"white\",\"ticks\":\"\",\"title\":{\"standoff\":15},\"zerolinecolor\":\"white\",\"automargin\":true,\"zerolinewidth\":2},\"yaxis\":{\"gridcolor\":\"white\",\"linecolor\":\"white\",\"ticks\":\"\",\"title\":{\"standoff\":15},\"zerolinecolor\":\"white\",\"automargin\":true,\"zerolinewidth\":2},\"scene\":{\"xaxis\":{\"backgroundcolor\":\"#E5ECF6\",\"gridcolor\":\"white\",\"linecolor\":\"white\",\"showbackground\":true,\"ticks\":\"\",\"zerolinecolor\":\"white\",\"gridwidth\":2},\"yaxis\":{\"backgroundcolor\":\"#E5ECF6\",\"gridcolor\":\"white\",\"linecolor\":\"white\",\"showbackground\":true,\"ticks\":\"\",\"zerolinecolor\":\"white\",\"gridwidth\":2},\"zaxis\":{\"backgroundcolor\":\"#E5ECF6\",\"gridcolor\":\"white\",\"linecolor\":\"white\",\"showbackground\":true,\"ticks\":\"\",\"zerolinecolor\":\"white\",\"gridwidth\":2}},\"shapedefaults\":{\"line\":{\"color\":\"#2a3f5f\"}},\"annotationdefaults\":{\"arrowcolor\":\"#2a3f5f\",\"arrowhead\":0,\"arrowwidth\":1},\"geo\":{\"bgcolor\":\"white\",\"landcolor\":\"#E5ECF6\",\"subunitcolor\":\"white\",\"showland\":true,\"showlakes\":true,\"lakecolor\":\"white\"},\"title\":{\"x\":0.05},\"mapbox\":{\"style\":\"light\"}}},\"yaxis\":{\"type\":\"log\"},\"updatemenus\":[{\"active\":0,\"buttons\":[{\"args\":[{\"visible\":[true,true,true,true,true],\"title\":\"All\",\"showlegend\":true}],\"label\":\"Select\",\"method\":\"update\"},{\"args\":[{\"visible\":[true,false,false,false,false],\"title\":\"f1_test\",\"showlegend\":true}],\"label\":\"f1_test\",\"method\":\"update\"},{\"args\":[{\"visible\":[false,true,false,false,false],\"title\":\"roc_auc_test\",\"showlegend\":true}],\"label\":\"roc_auc_test\",\"method\":\"update\"},{\"args\":[{\"visible\":[false,false,true,false,false],\"title\":\"balanced_accuracy_test\",\"showlegend\":true}],\"label\":\"balanced_accuracy_test\",\"method\":\"update\"},{\"args\":[{\"visible\":[false,false,false,true,false],\"title\":\"precision_test\",\"showlegend\":true}],\"label\":\"precision_test\",\"method\":\"update\"},{\"args\":[{\"visible\":[false,false,false,false,true],\"title\":\"accuracy_test\",\"showlegend\":true}],\"label\":\"accuracy_test\",\"method\":\"update\"}],\"direction\":\"right\",\"pad\":{\"l\":5,\"r\":5,\"t\":5},\"showactive\":true,\"visible\":true,\"x\":-0.03,\"xanchor\":\"left\",\"y\":1.1,\"yanchor\":\"bottom\"}],\"title\":{\"text\":\"Model Scores: Without Transformation(Raw Data)\",\"y\":0.96},\"legend\":{\"yanchor\":\"bottom\",\"y\":-0.5,\"xanchor\":\"center\",\"x\":0.5,\"orientation\":\"h\"},\"margin\":{\"autoexpand\":true},\"height\":400,\"showlegend\":true,\"paper_bgcolor\":\"rgba(0,0,0,0)\",\"plot_bgcolor\":\"rgba(0,0,0,0)\",\"autosize\":true},                        {\"displayModeBar\": false, \"responsive\": true}                    ).then(function(){\n",
       "                            \n",
       "var gd = document.getElementById('cb22aff3-b9c8-4521-a5fe-5b64fa26fe98');\n",
       "var x = new MutationObserver(function (mutations, observer) {{\n",
       "        var display = window.getComputedStyle(gd).display;\n",
       "        if (!display || display === 'none') {{\n",
       "            console.log([gd, 'removed!']);\n",
       "            Plotly.purge(gd);\n",
       "            observer.disconnect();\n",
       "        }}\n",
       "}});\n",
       "\n",
       "// Listen for the removal of the full notebook cells\n",
       "var notebookContainer = gd.closest('#notebook-container');\n",
       "if (notebookContainer) {{\n",
       "    x.observe(notebookContainer, {childList: true});\n",
       "}}\n",
       "\n",
       "// Listen for the clearing of the current output cell\n",
       "var outputEl = gd.closest('.output');\n",
       "if (outputEl) {{\n",
       "    x.observe(outputEl, {childList: true});\n",
       "}}\n",
       "\n",
       "                        })                };                });            </script>        </div>"
      ]
     },
     "metadata": {},
     "output_type": "display_data"
    }
   ],
   "source": [
    "############################################################################################\n",
    "df  = pd.read_csv('../tuned_models_raw4_3//model_scores.csv')\n",
    "#df = df.drop('Unnamed: 0', axis =1)\n",
    "df = df.set_index('model')\n",
    "df1 = df[['f1_train','roc_auc_train','balanced_accuracy_train','precision_train','accuracy_train']]\n",
    "df2 = df[['f1_test','roc_auc_test','balanced_accuracy_test','precision_test','accuracy_test']]\n",
    "\n",
    "#########################################################\n",
    "import plotly.graph_objects as go\n",
    "\n",
    "\n",
    "def multi_plot(df1,df2, title, addAll = True):\n",
    "    \n",
    "    fig = go.Figure()\n",
    "    \n",
    "\n",
    "    for column1 in df1.columns.to_list():\n",
    "        f1= fig.add_trace(\n",
    "            go.Bar(\n",
    "                x = df1.index,\n",
    "                y = df1[column1],\n",
    "                name = column1,\n",
    "            )\n",
    "        )\n",
    "\n",
    "    for column2 in df2.columns.to_list():\n",
    "        fig.add_trace(\n",
    "            go.Bar(\n",
    "                x = df2.index,\n",
    "                y = df2[column2],\n",
    "                name = column2\n",
    "            )\n",
    "        )\n",
    "\n",
    "\n",
    "    button_all = [dict(label = 'Train',\n",
    "                      method = 'update',\n",
    "                      args = [{'visible': df1.columns.isin(df1.columns),\n",
    "                               'title': 'All',\n",
    "                               'showlegend':True}]),\n",
    "                  dict(label = 'Select',\n",
    "                      method = 'update',\n",
    "                      args = [{'visible': df2.columns.isin(df2.columns),\n",
    "                               'title': 'All',\n",
    "                               'showlegend':True}]),\n",
    "                  \n",
    "                  ]\n",
    "                 \n",
    "                \n",
    "\n",
    "    def create_layout_button(column1):\n",
    "        return dict(label = column1,\n",
    "                    method = 'update',\n",
    "                    args = [{'visible': df1.columns.isin([column1]),\n",
    "                             'title': column1,\n",
    "                             'showlegend': True}])\n",
    "    \n",
    "    def create_layout_button2(column2):\n",
    "        return dict(label = column2,\n",
    "                    method = 'update',\n",
    "                    args = [{'visible': df2.columns.isin([column2]),\n",
    "                             'title': column2,\n",
    "                             'showlegend': True}]\n",
    "                   )\n",
    "    # Update remaining layout properties\n",
    "\n",
    "    fig.update_layout(\n",
    "        updatemenus=[\n",
    "          \n",
    "            \n",
    "            go.layout.Updatemenu(\n",
    "            active = 0,\n",
    "            visible=True,\n",
    "            buttons = ([button_all[1]] * addAll) + list(df2.columns.map(lambda column: create_layout_button2(column))),\n",
    "               \n",
    "            direction=\"right\",\n",
    "            pad={\"r\": 5, \"t\": 5,\"l\":5},\n",
    "            showactive=True,\n",
    "            x=-0.03,\n",
    "            xanchor=\"left\",\n",
    "            y=1.1,\n",
    "            yanchor=\"bottom\"),\n",
    "            \n",
    "            \n",
    "            \n",
    "        ],\n",
    "         yaxis_type=\"log\"       \n",
    "    )\n",
    "    # Update remaining layout properties\n",
    "    fig.update_layout(\n",
    "        title_text=title,\n",
    "        title_y=0.96,\n",
    "        \n",
    "        height=400,\n",
    "        #width = 1000,\n",
    "        showlegend=True,\n",
    "        legend=dict(yanchor=\"bottom\",\n",
    "                                  y=-0.5,\n",
    "                                  xanchor=\"center\",\n",
    "                                  x=0.5,\n",
    "                                  orientation='h'),\n",
    "        paper_bgcolor = \"rgba(0,0,0,0)\",\n",
    "        plot_bgcolor = \"rgba(0,0,0,0)\",\n",
    "        margin_autoexpand=True,\n",
    "        autosize=True,\n",
    "        \n",
    "    )\n",
    "    \n",
    "    fig.show(scale=200, config= dict(displayModeBar = False))\n",
    "       \n",
    "    ############################################################\n",
    "    \n",
    "    # Writing and exporting interactive figure as html file \n",
    "    \n",
    "    f1.write_html('../tuned_models_raw4_3/Model_Scores.html',config= dict(displayModeBar = False))\n",
    "        \n",
    "########################################################################################\n",
    "\n",
    "multi_plot(df1,df2, title=\"Model Scores: Engineered Features\")  \n",
    "\n",
    "#https://towardsdatascience.com/how-to-create-an-interactive-dropdown-in-jupyter-322277f58a68"
   ]
  },
  {
   "cell_type": "markdown",
   "id": "3ad9cd68-9b33-44ae-8847-160e47fbec71",
   "metadata": {
    "jp-MarkdownHeadingCollapsed": true,
    "tags": []
   },
   "source": [
    "# Feature Importance"
   ]
  },
  {
   "cell_type": "raw",
   "id": "cd5da4ce-d87d-4809-8f5e-7ae21cd52480",
   "metadata": {
    "jupyter": {
     "source_hidden": true
    },
    "tags": []
   },
   "source": [
    "feature_importance = lr_model.best_estimator_.feature_importances_\n",
    "\n",
    "feature_importance_df = pd.DataFrame({'feature': X_train.columns,\n",
    "                                      'importance': feature_importance\n",
    "                                     }).sort_values('importance', ascending=False)\n",
    "feature_importance_df\n",
    "\n",
    "######################################\n",
    "import plotly.express as px\n",
    "\n",
    "f1 = px.bar(data_frame= feature_importance_df,y='feature',x='importance')\n",
    "f1.write_html('../tuned_models_raw4_3/featureImportance.html',config= dict(displayModeBar = False))\n",
    "f1"
   ]
  },
  {
   "cell_type": "code",
   "execution_count": null,
   "id": "11b08d9b-f0e8-4ba6-99f2-7854c1760d03",
   "metadata": {},
   "outputs": [],
   "source": [
    "model = {\"AdaBoost\":AdaBoost_model, \"GBDT\":GBDT_model,\"RF\":RF_model}\n",
    "model.keys()"
   ]
  },
  {
   "cell_type": "code",
   "execution_count": null,
   "id": "f85086d1-0e8f-4da4-80f5-32d9f3596b9c",
   "metadata": {
    "tags": []
   },
   "outputs": [],
   "source": [
    "import plotly.graph_objs as go\n",
    "import plotly.subplots as sp\n",
    "import plotly.express as px\n",
    "import plotly.io as pio\n",
    "import pandas as pd\n",
    "\n",
    "\n",
    "\n",
    "model = {\"AdaBoost\":AdaBoost_model, \"GBDT\":GBDT_model,\"RF\":RF_model}\n",
    "# Define the number of rows and columns for the subplot grid\n",
    "num_rows = 1\n",
    "num_cols = 3\n",
    "\n",
    "# Create a subplot grid with the specified number of rows and columns\n",
    "fig = sp.make_subplots(rows=num_rows, cols=num_cols,subplot_titles=list(model.keys()))\n",
    "\n",
    "# Loop through each column in the dataframe and add a box plot to the subplot grid\n",
    "for idx, col_name in enumerate(model):\n",
    "    row_num = (idx // num_cols) + 1\n",
    "    col_num = (idx % num_cols) + 1\n",
    "    \n",
    "    ###### Feature Imortance Dataframe ###############\n",
    "    feature_importance = model.get(col_name).best_estimator_.feature_importances_\n",
    "\n",
    "    feature_importance_df = pd.DataFrame({'feature': X_train.columns,\n",
    "                                      'importance': feature_importance\n",
    "                                     }).sort_values('importance', ascending=False)\n",
    "    \n",
    "    ############ Plotting Feature Importance ################\n",
    "    \n",
    "    fig.add_trace(px.bar(data_frame= feature_importance_df,x='feature',y='importance').data[0], row=row_num, col=col_num,)\n",
    "    \n",
    "    #########################################################\n",
    "    \n",
    "    # Set the title of the subplot grid\n",
    "    fig.update_layout(height=500,width=1100, title='Feature Importance: Engineerd Features',\n",
    "                      paper_bgcolor = \"rgba(0,0,0,0)\",\n",
    "                      plot_bgcolor = \"rgba(0,0,0,0)\",                  \n",
    "                     )\n",
    "    fig.update_traces(marker_color='green')\n",
    "# Show the plot\n",
    "#fig.show()\n",
    "###############################\n",
    "fig.update_yaxes(showline=False,showgrid=False)\n",
    "fig.update_xaxes(showline=False,showgrid=False)\n",
    "##########################################\n",
    "#pio.write_html(fig,file = '../tuned_models_raw4_3/featureImportance.html',config= dict(displayModeBar = False))\n"
   ]
  },
  {
   "cell_type": "code",
   "execution_count": null,
   "id": "0ee59586-d612-4136-a4a1-547421446922",
   "metadata": {},
   "outputs": [],
   "source": []
  },
  {
   "cell_type": "markdown",
   "id": "a9ad0443-d9e0-492d-883c-a260da6ccf54",
   "metadata": {
    "jp-MarkdownHeadingCollapsed": true,
    "tags": []
   },
   "source": [
    "# Validation Curve"
   ]
  },
  {
   "cell_type": "code",
   "execution_count": null,
   "id": "0bed8feb-407b-404f-9e52-b65d1df47e87",
   "metadata": {},
   "outputs": [],
   "source": [
    "clfs = {\n",
    "    'LogisticRegression': lr_model,\n",
    "    'SVC': svm_model,\n",
    "    'KNeighbors': knn_model,\n",
    "    'RandomForest': RF_model,\n",
    "    'AdaBoost': AdaBoost_model,\n",
    "    \n",
    "    'GradientBoostingTrees': GBDT_model\n",
    "}"
   ]
  },
  {
   "cell_type": "code",
   "execution_count": null,
   "id": "b3a2178c-5af4-49b3-8f92-33b2868fc99d",
   "metadata": {},
   "outputs": [],
   "source": [
    "param_grid = {\n",
    "    \n",
    "    'LogisticRegression':{                         \n",
    "                          'max_iter':[100,1000,2000,3000],\n",
    "                          'l1_ratio':[1,0.9,0.8,0.7,0.6,0.5,0.4,0.2,0],                          \n",
    "                          'C': [10e-3,10e-2,10e-1,1.0,10,20,30],\n",
    "                         },\n",
    "    \n",
    "    'SVC': {'C':[10e-2,10e-1,1.0,10,20,30,40,70],\n",
    "           \n",
    "           \n",
    "           },\n",
    "    \n",
    "    'KNeighbors': {'n_neighbors':[3,5,9,11,13,15,19],  # n_neighbors should always be odd numbers\n",
    "                     \n",
    "                  },\n",
    "    \n",
    "    'RandomForest': {'n_estimators':[100,300,500],\n",
    "                    \n",
    "                    'max_depth':[2,4,5,6,7,8,10,15,20],\n",
    "                    \n",
    "                    },\n",
    "    \n",
    "    'AdaBoost': {'n_estimators': [50,70,90,100,110,140,170],\n",
    "                'learning_rate': [10e-3,10e-2,10e-1,1.0]\n",
    "                },\n",
    "    \n",
    "    'GradientBoostingTrees': {\n",
    "                             'learning_rate': [10e-3,10e-2,10e-1,1.0],\n",
    "                             'n_estimators': [100,200,400,600],\n",
    "                             'max_depth': [2,3,4,5,6,7,8,9,11,15,20]\n",
    "                             },\n",
    "          \n",
    "    }"
   ]
  },
  {
   "cell_type": "code",
   "execution_count": null,
   "id": "bd36101a-3ccc-4957-9247-961571f8a11e",
   "metadata": {
    "tags": []
   },
   "outputs": [],
   "source": [
    "fig, axes = plt.subplots(nrows=4, ncols=3, figsize=(12, 12))\n",
    "fig.suptitle('Validation Curves for Different Classifiers:Engineered Features', fontsize=22, fontweight='bold', y=1.0)\n",
    "\n",
    "axes = axes.flatten()\n",
    "i = 0\n",
    "\n",
    "for j, (clf_name, clf) in enumerate(clfs.items()):\n",
    "    for k, (param_name,param_value) in enumerate(param_grid[clf_name].items()):\n",
    "        ax = axes[i]\n",
    "        i += 1\n",
    "        \n",
    "        train_scores, valid_scores = validation_curve(clf.best_estimator_,\n",
    "                                                      X_train, y_train,\n",
    "                                                      cv=3,\n",
    "                                                      param_name=param_name,\n",
    "                                                      param_range=param_value)\n",
    "        train_mean = np.mean(train_scores, axis=1)\n",
    "        train_std = np.std(train_scores, axis=1)\n",
    "        valid_mean = np.mean(valid_scores, axis=1)\n",
    "        valid_std = np.std(valid_scores, axis=1)\n",
    "        ax.set_title(f'{clf_name} - {param_name}')\n",
    "        ax.set_xlabel(param_name)\n",
    "        ax.set_ylabel('Score')\n",
    "        ax.set_ylim(0.0, 1.1)\n",
    "        ax.set_xscale('log') \n",
    "        lw = 2\n",
    "        \n",
    "        try:\n",
    "            ax.semilogx(param_value, train_mean, label='Training score', color='darkorange', lw=lw)\n",
    "        except:\n",
    "            pass\n",
    "        \n",
    "        ax.fill_between(param_value, train_mean - train_std, train_mean + train_std, alpha=0.2, color='darkorange', lw=lw)\n",
    "        \n",
    "        try:\n",
    "            ax.semilogx(param_value, valid_mean, label='Cross-validation score', color='navy', lw=lw)\n",
    "        except:\n",
    "            pass\n",
    "        \n",
    "        ax.fill_between(param_value, valid_mean - valid_std, valid_mean + valid_std, alpha=0.2, color='navy', lw=lw)\n",
    "        ax.legend(loc='best')\n",
    "        \n",
    "plt.tight_layout()\n",
    "\n",
    "#plt.show()\n",
    "\n",
    "##########################################################\n",
    "\n",
    "#fig.figure.savefig(f'../AutoViz_Plots/ValidationCurve/{name}_{key}.svg',transparent=True,dpi=300)\n",
    "\n",
    "if not os.path.exists(f'../AutoViz_Plots/ValidationCurve_raw4_3'):\n",
    "    os.makedirs(f'../AutoViz_Plots/ValidationCurve_raw4_3')\n",
    "plt.savefig(f'../AutoViz_Plots/ValidationCurve_raw4_3/ValidationCurve_raw4_3.svg',format='svg',dpi=600)\n",
    "#####################################################\n",
    "\n",
    "plt.show()"
   ]
  },
  {
   "cell_type": "raw",
   "id": "4f30de47-26b2-4ce5-a1c8-e38cc15e4bf3",
   "metadata": {
    "jupyter": {
     "source_hidden": true
    },
    "tags": []
   },
   "source": [
    "############# ORIGINAL\n",
    "\n",
    "\n",
    "\n",
    "#for name, clf in {'SVC':svm_model, \"AdaBoost\":AdaBoost_model, \"GradientBoostingTrees\":GBDT_model,\"KNeighbors\":knn_model,\"LogisticRegression\":lr_model,\"RandomForest\":RF_model}.items():\n",
    "\n",
    "\n",
    "for name, clf in {'SVC':svm_model, \"AdaBoost\":AdaBoost_model, \"GradientBoostingTrees\":GBDT_model,\"KNeighbors\":knn_model,\"LogisticRegression\":lr_model}.items():\n",
    "    #print(\"\\nFor \",name)\n",
    "    \n",
    "    parameters = param_grid[name]\n",
    "    #print(parameters.keys())\n",
    "    \n",
    "    for key in parameters.keys():\n",
    "        #print(key)\n",
    "        #print(parameters[key])\n",
    "\n",
    "        param_name = key\n",
    "        param_range = parameters[key]\n",
    "        \n",
    "        # compute the training and validation scores for the given hyperparameter range\n",
    "        train_scores, valid_scores = validation_curve(clf.best_estimator_,\n",
    "                                                      X_train, y_train,\n",
    "                                                      cv=2,\n",
    "                                                      param_name=param_name,\n",
    "                                                      param_range=param_range)\n",
    "\n",
    "\n",
    "        # print the mean training and validation scores for each hyperparameter value\n",
    "\n",
    "        #print('Training scores:\\n', np.mean(train_scores, axis=1))\n",
    "        #print('Validation scores:\\n', np.mean(valid_scores, axis=1))\n",
    "\n",
    "        ###############################################################\n",
    "        train_mean = np.mean(train_scores, axis=1)\n",
    "        train_std = np.std(train_scores, axis=1)\n",
    "        valid_mean = np.mean(valid_scores, axis=1)\n",
    "        valid_std = np.std(valid_scores, axis=1)\n",
    "\n",
    "        # plot the validation curve\n",
    "        plt.figure(figsize=(5, 5))\n",
    "        plt.title(f'Validation Curve: {clf.best_estimator_}')\n",
    "        plt.xlabel(param_name)\n",
    "        plt.ylabel('Score')\n",
    "        plt.ylim(0.0, 1.1)\n",
    "        lw = 2\n",
    "\n",
    "        try:\n",
    "            plt.semilogx(param_range, train_mean, label='Training score',\n",
    "                         color='darkorange', lw=lw)\n",
    "        except:\n",
    "            pass\n",
    "\n",
    "        plt.fill_between(param_range, train_mean - train_std,\n",
    "                         train_mean + train_std, alpha=0.2,\n",
    "                         color='darkorange', lw=lw)\n",
    "        try:\n",
    "            plt.semilogx(param_range, valid_mean, label='Cross-validation score',\n",
    "                         color='navy', lw=lw)\n",
    "        except:\n",
    "            pass\n",
    "        \n",
    "        plt.fill_between(param_range, valid_mean - valid_std,\n",
    "                         valid_mean + valid_std, alpha=0.2,\n",
    "                         color='navy', lw=lw)\n",
    "\n",
    "\n",
    "        plt.legend(loc='best')\n",
    "\n",
    "        plt.show()        \n",
    "        #fig.figure.savefig(f'../AutoViz_Plots/ValidationCurve/{name}_{key}.svg',transparent=True,dpi=300)\n",
    "        \n",
    "        if not os.path.exists(f'../AutoViz_Plots/ValidationCurve_regenerated/{name}'):\n",
    "            os.makedirs(f'../AutoViz_Plots/ValidationCurve_regenerated/{name}')\n",
    "        plt.savefig(f'../AutoViz_Plots/ValidationCurve_regenerated/{name}/{key}.svg',format='svg',dpi=400)\n",
    "        \n"
   ]
  },
  {
   "cell_type": "raw",
   "id": "7ae4ab1d-f630-43dc-b5bd-0c5dc355ac60",
   "metadata": {
    "jupyter": {
     "source_hidden": true
    },
    "tags": []
   },
   "source": [
    "import numpy as np\n",
    "from sklearn.model_selection import validation_curve\n",
    "import matplotlib.pyplot as plt\n",
    "\n",
    "#    'RandomForest': {'n_estimators':[100],\n",
    "#                    'criterion':['gini','log_loss'],\n",
    "#                    'max_depth':[2,3,4,5,6,7,8,9,10,12,14,15,18],\n",
    "#                    'class_weight': ['balanced',None]},\n",
    "\n",
    "param_name='max_depth'\n",
    "param_range=[2,3,4,5,6,7,8,9,10,15]\n",
    "try:\n",
    "    # compute the training and validation scores for the given hyperparameter range\n",
    "    train_scores, valid_scores = validation_curve(\n",
    "        RF_model.best_estimator_, X_train, y_train, cv=5, param_name=param_name, param_range=param_range)\n",
    "except:\n",
    "    pass\n",
    "# print the mean training and validation scores for each hyperparameter value\n",
    "print('Training scores:\\n', np.mean(train_scores, axis=1))\n",
    "print('Validation scores:\\n', np.mean(valid_scores, axis=1))\n",
    "###############################################################\n",
    "\n",
    "train_mean = np.mean(train_scores, axis=1)\n",
    "train_std = np.std(train_scores, axis=1)\n",
    "valid_mean = np.mean(valid_scores, axis=1)\n",
    "valid_std = np.std(valid_scores, axis=1)\n",
    "\n",
    "# plot the validation curve\n",
    "plt.figure(figsize=(8, 6))\n",
    "plt.title('Validation Curve')\n",
    "plt.xlabel(param_name)\n",
    "plt.ylabel('Score')\n",
    "plt.ylim(0.0, 1.1)\n",
    "lw = 2\n",
    "\n",
    "\n",
    "plt.semilogx(param_range, train_mean, label='Training score',\n",
    "             color='darkorange', lw=lw)\n",
    "\n",
    "\n",
    "plt.fill_between(param_range, train_mean - train_std,\n",
    "                 train_mean + train_std, alpha=0.2,\n",
    "                 color='darkorange', lw=lw)\n",
    "\n",
    "plt.semilogx(param_range, valid_mean, label='Cross-validation score',\n",
    "             color='navy', lw=lw)\n",
    "\n",
    "plt.fill_between(param_range, valid_mean - valid_std,\n",
    "                 valid_mean + valid_std, alpha=0.2,\n",
    "                 color='navy', lw=lw)\n",
    "\n",
    "\n",
    "plt.legend(loc='best')\n",
    "plt.show()"
   ]
  },
  {
   "cell_type": "markdown",
   "id": "38b015cd-cadf-401f-991f-9067e8302bf7",
   "metadata": {
    "jp-MarkdownHeadingCollapsed": true,
    "tags": []
   },
   "source": [
    "# Learning Curve\n",
    "\n",
    "In a classification problem, the learning curve shows the performance of a model on the training set and the validation set over increasing numbers of training samples. It shows how the performance of the model changes as the training set size increases. The performance metric used for classification learning curves is usually accuracy or F1 score.\n",
    "\n",
    "In a regression problem, the learning curve shows the performance of a model on the training set and the validation set over increasing numbers of training samples. It shows how the performance of the model changes as the training set size increases. The performance metric used for regression learning curves is usually mean squared error (MSE) or R-squared."
   ]
  },
  {
   "cell_type": "raw",
   "id": "c29b09e5-d0f5-4c7b-b46e-8a9d9cb64868",
   "metadata": {
    "jupyter": {
     "source_hidden": true
    },
    "tags": []
   },
   "source": [
    "import numpy as np\n",
    "import matplotlib.pyplot as plt\n",
    "from sklearn.datasets import make_classification\n",
    "from sklearn.model_selection import GridSearchCV, learning_curve\n",
    "from sklearn.linear_model import LogisticRegression\n",
    "import os\n",
    "\n",
    "# generate random classification dataset\n",
    "X, y = make_classification(n_samples=1000, n_features=20, n_informative=5, n_redundant=0, random_state=42)\n",
    "\n",
    "# define estimator\n",
    "estimator = LogisticRegression()\n",
    "\n",
    "# define parameter grid to be searched\n",
    "param_grid = {\n",
    "    'C': [0.001, 0.01, 0.1, 1, 10, 100],\n",
    "    'penalty': ['l1', 'l2']\n",
    "}\n",
    "\n",
    "# initialize GridSearchCV object\n",
    "grid_search = GridSearchCV(estimator=estimator, param_grid=param_grid, cv=2, n_jobs=-1)\n",
    "\n",
    "# split dataset into training and test data\n",
    "train_sizes, train_scores, test_scores = learning_curve(grid_search, X, y, cv=2, train_sizes=np.linspace(0.1, 1.0, 4))\n",
    "\n",
    "# calculate mean and standard deviation of training and test scores\n",
    "train_scores_mean = np.mean(train_scores, axis=1)\n",
    "train_scores_std = np.std(train_scores, axis=1)\n",
    "test_scores_mean = np.mean(test_scores, axis=1)\n",
    "test_scores_std = np.std(test_scores, axis=1)\n",
    "\n",
    "# plot learning curve\n",
    "plt.figure()\n",
    "plt.title('Learning Curve')\n",
    "plt.xlabel('Training examples')\n",
    "plt.ylabel('Score')\n",
    "plt.grid()\n",
    "plt.fill_between(train_sizes, train_scores_mean - train_scores_std, train_scores_mean + train_scores_std, alpha=0.1, color='r')\n",
    "plt.fill_between(train_sizes, test_scores_mean - test_scores_std, test_scores_mean + test_scores_std, alpha=0.1, color='g')\n",
    "plt.plot(train_sizes, train_scores_mean, 'o-', color='r', label='Training score')\n",
    "plt.plot(train_sizes, test_scores_mean, 'o-', color='g', label='Cross-validation score')\n",
    "plt.legend(loc='best')\n",
    "\n",
    "\n",
    "if not os.path.exists('../AutoViz_Plots/Training'):\n",
    "    os.makedirs('../AutoViz_Plots/Training')    \n",
    "\n",
    "    plt.savefig('../AutoViz_Plots/Training/LearningCurve.svg')\n"
   ]
  },
  {
   "cell_type": "code",
   "execution_count": null,
   "id": "03513d4b-7149-48a1-9b40-ce95039e2992",
   "metadata": {
    "scrolled": true,
    "tags": []
   },
   "outputs": [],
   "source": [
    "############## LEARNING CURVE #####################\n",
    "\n",
    "\n",
    "#import numpy as np\n",
    "#import matplotlib.pyplot as plt\n",
    "#from sklearn.model_selection import learning_curve\n",
    "\n",
    "\n",
    "############################################\n",
    "\n",
    "#################################################\n",
    "fig, axes = plt.subplots(nrows=3, ncols=2, figsize=(12, 12))\n",
    "fig.suptitle('Learning Curves For Classifiers: Engineered Features', fontsize=24, fontweight='bold', y=1.0)\n",
    "axes = axes.flatten()\n",
    "i = 0\n",
    "###################################################\n",
    "\n",
    "\n",
    "#for name, clf in {'SVM':svm_model, \"AdaBoost\":AdaBoost_model, \"GBDT\":GBDT_model,\"KNN\":knn_model,\"LogReg\":lr_model,\"RF\":RF_model}.items():\n",
    "model = {'SVM':svm_model, \"AdaBoost\":AdaBoost_model, \"GBDT\":GBDT_model,\"KNN\":knn_model,\"LogReg\":lr_model,\"RF\":RF_model}\n",
    "\n",
    "\n",
    "for name, clf in model.items():\n",
    "    print(\"\\nFor \",name)\n",
    "    #parameters = param_grid[name]\n",
    "    #gs = grid_search(clf,parameters)\n",
    "    \n",
    "    ax = axes[i]\n",
    "    i +=1\n",
    "   \n",
    "    # split dataset into training and test data\n",
    "    train_sizes, train_scores, test_scores = learning_curve(clf, X_train, y_train,\n",
    "                                                            cv=3,\n",
    "                                                            verbose=0,\n",
    "                                                            random_state=100,\n",
    "                                                            #scoring=scoring,\n",
    "                                                            train_sizes=np.linspace(0.1, 1.0, 4),)\n",
    "    \n",
    "    # calculate mean and standard deviation of training and test scores\n",
    "    train_scores_mean = np.mean(train_scores, axis=1)\n",
    "    train_scores_std = np.std(train_scores, axis=1)\n",
    "    test_scores_mean = np.mean(test_scores, axis=1)\n",
    "    test_scores_std = np.std(test_scores, axis=1)\n",
    "\n",
    "    # plot learning curve\n",
    "    #plt.figure()\n",
    "    ax.set_title(f'Learning Curve: {name}')\n",
    "    ax.set_xlabel('Training examples')\n",
    "    ax.set_ylabel('Score')\n",
    "    ax.grid()\n",
    "    ax.fill_between(train_sizes, train_scores_mean - train_scores_std, train_scores_mean + train_scores_std, alpha=0.1, color='r')\n",
    "    ax.fill_between(train_sizes, test_scores_mean - test_scores_std, test_scores_mean + test_scores_std, alpha=0.1, color='g')\n",
    "    ax.plot(train_sizes, train_scores_mean, 'o-', color='r', label='Training score')\n",
    "    ax.plot(train_sizes, test_scores_mean, 'o-', color='g', label='Cross-validation score')\n",
    "    \n",
    "    ax.legend(loc='best')\n",
    "\n",
    "plt.tight_layout()    \n",
    "    \n",
    "if not os.path.exists('../AutoViz_Plots/LearningCurve_raw4_3'):\n",
    "    os.makedirs('../AutoViz_Plots/LearningCurve_raw4_3')\n",
    "plt.savefig(f'../AutoViz_Plots/LearningCurve_raw4_3/LearningCurve_raw4_3.svg',format='svg',dpi=500)\n",
    "    \n",
    "plt.show()\n",
    "\n",
    "    \n",
    "    \n",
    "\n"
   ]
  },
  {
   "cell_type": "code",
   "execution_count": null,
   "id": "76ac763d-e97a-4c37-a492-902c35a8b3b1",
   "metadata": {},
   "outputs": [],
   "source": []
  },
  {
   "cell_type": "markdown",
   "id": "f8935176-f830-41a3-a932-35018450fca7",
   "metadata": {
    "jp-MarkdownHeadingCollapsed": true,
    "tags": []
   },
   "source": [
    "# Complexity Aanalysis"
   ]
  },
  {
   "cell_type": "code",
   "execution_count": null,
   "id": "2546655e-6c64-4bea-80cc-4a838f5539c3",
   "metadata": {
    "scrolled": true,
    "tags": []
   },
   "outputs": [],
   "source": [
    "#import numpy as np\n",
    "#import matplotlib.pyplot as plt\n",
    "#from sklearn.model_selection import learning_curve\n",
    "\n",
    "\n",
    "############################################\n",
    "\n",
    "#################################################\n",
    "fig, axes = plt.subplots(nrows=6, ncols=3, figsize=(10, 15))\n",
    "fig.suptitle(' Scalability & Performance: Engineered Features', fontsize=24, fontweight='bold', y=1.0)\n",
    "axes = axes.flatten()\n",
    "i = 0\n",
    "###################################################\n",
    "\n",
    "\n",
    "#for name, clf in {'SVM':svm_model, \"AdaBoost\":AdaBoost_model, \"GBDT\":GBDT_model,\"KNN\":knn_model,\"LogReg\":lr_model,\"RF\":RF_model}.items():\n",
    "model = {'SVM':svm_model, \"AdaBoost\":AdaBoost_model, \"GBDT\":GBDT_model,\"KNN\":knn_model,\"LogReg\":lr_model,\"RF\":RF_model}\n",
    "\n",
    "\n",
    "for name, clf in model.items():\n",
    "    print(\"\\nFor \",name)\n",
    "    \n",
    "    ax = axes[i]\n",
    "    ax2 = axes[i+1]\n",
    "    ax3 = axes[i+2]\n",
    "    i +=3\n",
    "   \n",
    "    # split dataset into training and test data\n",
    "    train_sizes, train_scores, test_scores, fit_time, score_time = learning_curve(clf, X_train, y_train,\n",
    "                                                            cv=3,\n",
    "                                                            verbose=0,\n",
    "                                                            random_state=100,\n",
    "                                                            #scoring=scoring,\n",
    "                                                            train_sizes=np.linspace(0.1, 1.0, 4),\n",
    "                                                           return_times=True)\n",
    "    \n",
    "    # calculate mean and standard deviation of training and test scores\n",
    "    fit_time_mean = np.mean(fit_time, axis=1)\n",
    "    fit_time_std = np.std(fit_time, axis=1)\n",
    "    \n",
    "    score_time_mean = np.mean(score_time, axis=1)\n",
    "    score_time_std = np.std(score_time, axis=1)\n",
    "    test_scores_mean = np.mean(test_scores, axis=1)\n",
    "    test_scores_std = np.std(test_scores, axis=1)\n",
    "    \n",
    "\n",
    "    # plot learning curve\n",
    "    #plt.figure()\n",
    "    ax.set_title(f'Scalability For: {name}')\n",
    "    ax2.set_title(f'Scalability For: {name}')\n",
    "    ax3.set_title(f'Performance of: {name}')\n",
    "    \n",
    "    ax.set_xlabel('Training examples')\n",
    "    ax2.set_xlabel('Training examples')\n",
    "    ax3.set_xlabel('Fit Time')\n",
    "    \n",
    "    ax.set_ylabel('Fit Time')\n",
    "    ax2.set_ylabel('Score Time')\n",
    "    ax3.set_ylabel('Test Score')\n",
    "    \n",
    "    ax.grid()\n",
    "    ax2.grid()\n",
    "    ax3.grid()\n",
    "    \n",
    "    ax.fill_between(train_sizes, fit_time_mean - fit_time_std, fit_time_mean + fit_time_std, alpha=0.1, color='r')\n",
    "    ax2.fill_between(train_sizes, score_time_mean - score_time_std, score_time_mean + score_time_std, alpha=0.1, color='g')\n",
    "    ax3.fill_between(fit_time_mean, test_scores_mean - test_scores_std, test_scores_mean + test_scores_std, alpha=0.1, color='b')\n",
    "    \n",
    "    ax.plot(train_sizes, fit_time_mean, 'o-', color='r', label='Fit Time')\n",
    "    ax2.plot(train_sizes, score_time_mean, 'o-', color='g', label='Score Time')\n",
    "    ax3.plot(fit_time_mean, test_scores_mean, 'o-', color='b', label='Fit Time vs score')\n",
    "    \n",
    "    #ax.legend(loc='best')\n",
    "    #ax2.legend(loc='best')\n",
    "\n",
    "plt.tight_layout()    \n",
    "    \n",
    "if not os.path.exists('../AutoViz_Plots/ScalabilityPerformance_raw4_3'):\n",
    "    os.makedirs('../AutoViz_Plots/ScalabilityPerformance_raw4_3')\n",
    "plt.savefig(f'../AutoViz_Plots/ScalabilityPerformance_raw4_3/ScalabilityPerformance_raw4_3.svg',format='svg',dpi=600)\n",
    "    \n",
    "plt.show()\n",
    "\n",
    "    \n",
    "    \n",
    "\n"
   ]
  },
  {
   "cell_type": "code",
   "execution_count": null,
   "id": "556adbb5-f287-4f08-ba5f-a4d558f2aedd",
   "metadata": {},
   "outputs": [],
   "source": []
  },
  {
   "cell_type": "markdown",
   "id": "b997918c-fb10-4d90-b46f-775d205fcbdc",
   "metadata": {
    "jp-MarkdownHeadingCollapsed": true,
    "tags": []
   },
   "source": [
    "# ROC UC Curve"
   ]
  },
  {
   "cell_type": "code",
   "execution_count": null,
   "id": "f31254e2-a6a6-4985-9aa6-7c9ab72ab4b7",
   "metadata": {},
   "outputs": [],
   "source": [
    "#from sklearn.metrics import RocCurveDisplay"
   ]
  },
  {
   "cell_type": "raw",
   "id": "710c205a-a4c4-4647-bdf8-6e24703b2309",
   "metadata": {
    "jupyter": {
     "source_hidden": true
    },
    "tags": []
   },
   "source": [
    "y_predictions = AdaBoost_model.best_estimator_.decision_function(X_test)\n",
    "\n",
    "RocCurveDisplay.from_predictions(y_true= y_test,y_pred= y_predictions)\n",
    "plt.show()"
   ]
  },
  {
   "cell_type": "raw",
   "id": "c98f9c7b-e34e-4be5-9b45-9001867e1146",
   "metadata": {
    "jupyter": {
     "source_hidden": true
    },
    "tags": []
   },
   "source": [
    "#y_predictions = AdaBoost_model.best_estimator_.decision_function(X_test)\n",
    "fig, ax = plt.subplots(figsize=(4, 4))\n",
    "#ax =ax.flatten()\n",
    "roc_display = RocCurveDisplay.from_estimator(AdaBoost_model.best_estimator_,X=X_test, y= y_test, ax=ax)\n",
    "#ax[2].grid()\n",
    "\n",
    "\n",
    "#roc_display.plot(ax=ax)\n",
    "#plt.show(ax=ax)"
   ]
  },
  {
   "cell_type": "code",
   "execution_count": null,
   "id": "f2d4d973-0dbb-4da9-af20-1e1adf22ce4b",
   "metadata": {},
   "outputs": [],
   "source": [
    "#################################################\n",
    "fig, axes = plt.subplots(nrows=2, ncols=3, figsize=(13, 8),sharex=True, sharey=True, squeeze=True)\n",
    "fig.suptitle('ROC Curve: Engineered Features', fontsize=22, fontweight='bold', y=1)\n",
    "axes = axes.flatten()\n",
    "i = 0\n",
    "###################################################\n",
    "\n",
    "\n",
    "#for name, clf in {'SVM':svm_model, \"AdaBoost\":AdaBoost_model, \"GBDT\":GBDT_model,\"KNN\":knn_model,\"LogReg\":lr_model,\"RF\":RF_model}.items():\n",
    "model = {'SVM':svm_model, \"AdaBoost\":AdaBoost_model, \"GBDT\":GBDT_model,\"KNN\":knn_model,\"LogReg\":lr_model,\"RF\":RF_model}\n",
    "\n",
    "\n",
    "for name, clf in model.items():\n",
    "    #print(\"\\nFor \",name)\n",
    "    \n",
    "    ax = axes[i]\n",
    "    \n",
    "    roc_display = RocCurveDisplay.from_estimator(clf.best_estimator_,X=X_test, y= y_test, ax=ax,alpha=1,color='b')\n",
    "    ax.set_title(name)\n",
    "    ax.legend(loc='best')\n",
    "    ax.grid(color='k',alpha=0.1)\n",
    "    \n",
    "    i +=1\n",
    "plt.tight_layout()    \n",
    "\n",
    "#################################\n",
    "if not os.path.exists('../AutoViz_Plots/ROC_Curve_raw4_3'):\n",
    "    os.makedirs('../AutoViz_Plots/ROC_Curve_raw4_3')\n",
    "plt.savefig(f'../AutoViz_Plots/ROC_Curve_raw4_3/ROC_Curve_raww4_3.svg',format='svg',dpi=600)\n"
   ]
  },
  {
   "cell_type": "markdown",
   "id": "d841ab6b-b0e4-4f46-9798-cb67f4f501b8",
   "metadata": {
    "jp-MarkdownHeadingCollapsed": true,
    "tags": []
   },
   "source": [
    "# Confusion Metrix"
   ]
  },
  {
   "cell_type": "code",
   "execution_count": null,
   "id": "f69ce263-e107-4863-badd-4bc117d26940",
   "metadata": {},
   "outputs": [],
   "source": [
    "#from sklearn.metrics import confusion_matrix, ConfusionMatrixDisplay"
   ]
  },
  {
   "cell_type": "raw",
   "id": "c5de5f1e-0b10-49c3-aa1b-b7264202e5e4",
   "metadata": {
    "jupyter": {
     "outputs_hidden": true,
     "source_hidden": true
    },
    "tags": []
   },
   "source": [
    "fig, axes = plt.subplots(nrows=2,ncols=3,figsize=(12,8))\n",
    "ax = axes.flatten()\n",
    "ax = ax[1]\n",
    "ConfusionMatrixDisplay.from_estimator(estimator= RF_model, X= X_test, y= y_test, ax= ax,colorbar=False)\n",
    "plt.show()"
   ]
  },
  {
   "cell_type": "code",
   "execution_count": null,
   "id": "249f38c5-bea8-4cb7-9659-7fe5af7ca617",
   "metadata": {},
   "outputs": [],
   "source": [
    "#################################################\n",
    "fig, axes = plt.subplots(nrows=2, ncols=3, figsize=(12, 8), squeeze=True)\n",
    "fig.suptitle('Confusion Metrix: Engineered Features', fontsize=22, fontweight='bold', y=1)\n",
    "axes = axes.flatten()\n",
    "i = 0\n",
    "###################################################\n",
    "\n",
    "\n",
    "#for name, clf in {'SVM':svm_model, \"AdaBoost\":AdaBoost_model, \"GBDT\":GBDT_model,\"KNN\":knn_model,\"LogReg\":lr_model,\"RF\":RF_model}.items():\n",
    "model = {'SVM':svm_model, \"AdaBoost\":AdaBoost_model, \"GBDT\":GBDT_model,\"KNN\":knn_model,\"LogReg\":lr_model,\"RF\":RF_model}\n",
    "\n",
    "\n",
    "for name, clf in model.items():\n",
    "    #print(\"\\nFor \",name)\n",
    "    \n",
    "    ax = axes[i]\n",
    "    \n",
    "    confusionMetrix = ConfusionMatrixDisplay.from_estimator(clf.best_estimator_, X=X_test, y= y_test, ax=ax, colorbar=False)\n",
    "    ax.set_title(name)\n",
    "    \n",
    "    i +=1\n",
    "\n",
    "plt.tight_layout()    \n",
    "\n",
    "#################################\n",
    "if not os.path.exists('../AutoViz_Plots/ConfusionMetrix_raw4_3'):\n",
    "    os.makedirs('../AutoViz_Plots/ConfusionMetrix_raw4_3')\n",
    "plt.savefig(f'../AutoViz_Plots/ConfusionMetrix_raw4_3/ConfusionMetrix_raw4_3.svg',format='svg',dpi=600)\n",
    "########\n",
    "plt.show()"
   ]
  },
  {
   "cell_type": "code",
   "execution_count": null,
   "id": "7bffc90e-6d23-462c-bf72-1fab6a9fa478",
   "metadata": {},
   "outputs": [],
   "source": []
  },
  {
   "cell_type": "markdown",
   "id": "7dfda5df-400a-4dc8-9faf-7467fcd8a4dc",
   "metadata": {},
   "source": [
    "# <center>Conclusions: Classifiaction Problem</center>\n",
    "\n",
    "- FWI is calculated from FFMC, DMC, ISI, BUI and these features hss very strong correlation reaching to 9 or more so decided to go with following strategie:\n",
    "\n",
    "    - Selected Temperature, Rain, RH, DC and FWI and month\n",
    "    - I understand standardization and some transformation like log(x+1) transformation is need for FWI and DC\n",
    "    - I trained the model with standardization & transfromation, with only standardization, without standardization or transformation\n",
    "    - Original features can't be accomodated because of high correlaion. Since FWI is calculated from other features so including those features and excluding the FWI will only complicate the model and there will be no improvement in perfromance. I also perfromed feature engineering so that I can include other features.\n",
    "    - The generated features include: FWI/FFMC,  (DMC/FWi)/ISI, FWI/BUI\n",
    "    - I trained the model with these features following same strategie i.e with and without transformation and with standardization & no transformation.\n",
    "    - The best perfroming models in terms of F1, roc_auc, precision, balanced accuracy etc are the  models with engineered features with standardization. However the second best model was with original features including DC adn FWI without standardization and transformation."
   ]
  },
  {
   "cell_type": "code",
   "execution_count": null,
   "id": "a99a0aff-cd54-4089-921a-26e119d85a96",
   "metadata": {},
   "outputs": [],
   "source": []
  }
 ],
 "metadata": {
  "kernelspec": {
   "display_name": "Python 3 (ipykernel)",
   "language": "python",
   "name": "python3"
  },
  "language_info": {
   "codemirror_mode": {
    "name": "ipython",
    "version": 3
   },
   "file_extension": ".py",
   "mimetype": "text/x-python",
   "name": "python",
   "nbconvert_exporter": "python",
   "pygments_lexer": "ipython3",
   "version": "3.10.8"
  }
 },
 "nbformat": 4,
 "nbformat_minor": 5
}
